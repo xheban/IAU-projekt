{
 "cells": [
  {
   "cell_type": "markdown",
   "metadata": {},
   "source": [
    "FIIT STU v Bratislave, ZS 2019/2020, Utorok 11:00\n",
    "\n",
    "---\n",
    "\n",
    "# Projekt z predmetu Inteligentná analýza údajov\n",
    "### Michal Heban, Ivana Frankovičová\n",
    "Datasety č. 10\n",
    "\n",
    "---"
   ]
  },
  {
   "cell_type": "markdown",
   "metadata": {},
   "source": [
    "## 1. fáza - Prieskumná analýza\n"
   ]
  },
  {
   "cell_type": "markdown",
   "metadata": {},
   "source": [
    "Na začiatok načítame potrebné knižnice a datasety.\n",
    "Používať budeme datasety other_train.csv a personal_train.csv. Zistili sme, že v datasetoch sú jednotlivé údaje oddelené čiarkou a prvý stĺpec môžeme nastaviť ako index."
   ]
  },
  {
   "cell_type": "code",
   "execution_count": 121,
   "metadata": {},
   "outputs": [],
   "source": [
    "%matplotlib inline\n",
    "import pandas as pd\n",
    "import numpy as np\n",
    "import matplotlib.pyplot as plt\n",
    "import seaborn as sb;\n",
    "import re\n",
    "import statistics as st\n",
    "from scipy import stats"
   ]
  },
  {
   "cell_type": "code",
   "execution_count": 141,
   "metadata": {},
   "outputs": [],
   "source": [
    "other_train = pd.read_csv(\"other_train.csv\", sep=',', index_col = 0)"
   ]
  },
  {
   "cell_type": "code",
   "execution_count": 111,
   "metadata": {},
   "outputs": [],
   "source": [
    "other_valid = pd.read_csv(\"other_valid.csv\")"
   ]
  },
  {
   "cell_type": "code",
   "execution_count": 118,
   "metadata": {},
   "outputs": [],
   "source": [
    "personal_train = pd.read_csv(\"personal_train.csv\",sep=',', index_col = 0)"
   ]
  },
  {
   "cell_type": "code",
   "execution_count": 119,
   "metadata": {},
   "outputs": [],
   "source": [
    "personal_valid = pd.read_csv(\"personal_valid.csv\")"
   ]
  },
  {
   "cell_type": "markdown",
   "metadata": {},
   "source": [
    "# DATASET personal_train"
   ]
  },
  {
   "cell_type": "markdown",
   "metadata": {},
   "source": [
    "Dataset personal_train obsahuje osobné údaje o ľuďoch, ktorí sa zúčastnili meraní."
   ]
  },
  {
   "cell_type": "code",
   "execution_count": 120,
   "metadata": {},
   "outputs": [
    {
     "data": {
      "text/html": [
       "<div>\n",
       "<style scoped>\n",
       "    .dataframe tbody tr th:only-of-type {\n",
       "        vertical-align: middle;\n",
       "    }\n",
       "\n",
       "    .dataframe tbody tr th {\n",
       "        vertical-align: top;\n",
       "    }\n",
       "\n",
       "    .dataframe thead th {\n",
       "        text-align: right;\n",
       "    }\n",
       "</style>\n",
       "<table border=\"1\" class=\"dataframe\">\n",
       "  <thead>\n",
       "    <tr style=\"text-align: right;\">\n",
       "      <th></th>\n",
       "      <th>name</th>\n",
       "      <th>address</th>\n",
       "      <th>age</th>\n",
       "      <th>sex</th>\n",
       "      <th>date_of_birth</th>\n",
       "    </tr>\n",
       "  </thead>\n",
       "  <tbody>\n",
       "    <tr>\n",
       "      <th>0</th>\n",
       "      <td>Roscoe Bohannon</td>\n",
       "      <td>7183 Osborne Ways Apt. 651\\r\\nEast Andrew, OH ...</td>\n",
       "      <td>39</td>\n",
       "      <td>Male</td>\n",
       "      <td>1979-12-14</td>\n",
       "    </tr>\n",
       "    <tr>\n",
       "      <th>1</th>\n",
       "      <td>Ernest Kline</td>\n",
       "      <td>391 Ball Road Suite 961\\r\\nFlowersborough, IN ...</td>\n",
       "      <td>65</td>\n",
       "      <td>Female</td>\n",
       "      <td>1953-11-21</td>\n",
       "    </tr>\n",
       "    <tr>\n",
       "      <th>2</th>\n",
       "      <td>Harold Hendriks</td>\n",
       "      <td>8702 Vincent Square\\r\\nNew Jerryfurt, CO 30614</td>\n",
       "      <td>50</td>\n",
       "      <td>Female</td>\n",
       "      <td>1969-03-06</td>\n",
       "    </tr>\n",
       "    <tr>\n",
       "      <th>3</th>\n",
       "      <td>Randy Baptiste</td>\n",
       "      <td>2751 Harris Crossroad\\r\\nWest Ashley, CA 30311</td>\n",
       "      <td>47</td>\n",
       "      <td>Male</td>\n",
       "      <td>1972-02-28</td>\n",
       "    </tr>\n",
       "    <tr>\n",
       "      <th>4</th>\n",
       "      <td>Anthony Colucci</td>\n",
       "      <td>904 Robert Cliffs Suite 186\\r\\nWest Kyle, CO 7...</td>\n",
       "      <td>46</td>\n",
       "      <td>Female</td>\n",
       "      <td>1973-10-05 00 00 00</td>\n",
       "    </tr>\n",
       "    <tr>\n",
       "      <th>5</th>\n",
       "      <td>Ronald Lange</td>\n",
       "      <td>30973 Martinez Shores\\r\\nJameston, CA 70245</td>\n",
       "      <td>-5600</td>\n",
       "      <td>Male</td>\n",
       "      <td>1963-07-25 00:00:00</td>\n",
       "    </tr>\n",
       "    <tr>\n",
       "      <th>6</th>\n",
       "      <td>Boyd Eiselein</td>\n",
       "      <td>29941 Christopher Curve Apt. 682\\r\\nRaychester...</td>\n",
       "      <td>57</td>\n",
       "      <td>Female</td>\n",
       "      <td>1962-08-22 00:00:00</td>\n",
       "    </tr>\n",
       "    <tr>\n",
       "      <th>7</th>\n",
       "      <td>Raymond Smith</td>\n",
       "      <td>53487 Scott Extensions Apt. 824\\r\\nMccartytown...</td>\n",
       "      <td>70</td>\n",
       "      <td>Male</td>\n",
       "      <td>1948-10-30 00:00:00</td>\n",
       "    </tr>\n",
       "    <tr>\n",
       "      <th>8</th>\n",
       "      <td>Harold Miller</td>\n",
       "      <td>8514 Elizabeth Crescent\\r\\nWest Joseland, GA 4...</td>\n",
       "      <td>49</td>\n",
       "      <td>Male</td>\n",
       "      <td>17/02/1970</td>\n",
       "    </tr>\n",
       "    <tr>\n",
       "      <th>9</th>\n",
       "      <td>Charles Czachorowski</td>\n",
       "      <td>6798 Wagner Locks Suite 377\\r\\nLake Brenda, DC...</td>\n",
       "      <td>5200</td>\n",
       "      <td>Male</td>\n",
       "      <td>1967-01-04</td>\n",
       "    </tr>\n",
       "  </tbody>\n",
       "</table>\n",
       "</div>"
      ],
      "text/plain": [
       "                   name                                            address  \\\n",
       "0       Roscoe Bohannon  7183 Osborne Ways Apt. 651\\r\\nEast Andrew, OH ...   \n",
       "1          Ernest Kline  391 Ball Road Suite 961\\r\\nFlowersborough, IN ...   \n",
       "2       Harold Hendriks     8702 Vincent Square\\r\\nNew Jerryfurt, CO 30614   \n",
       "3        Randy Baptiste     2751 Harris Crossroad\\r\\nWest Ashley, CA 30311   \n",
       "4       Anthony Colucci  904 Robert Cliffs Suite 186\\r\\nWest Kyle, CO 7...   \n",
       "5          Ronald Lange        30973 Martinez Shores\\r\\nJameston, CA 70245   \n",
       "6         Boyd Eiselein  29941 Christopher Curve Apt. 682\\r\\nRaychester...   \n",
       "7         Raymond Smith  53487 Scott Extensions Apt. 824\\r\\nMccartytown...   \n",
       "8         Harold Miller  8514 Elizabeth Crescent\\r\\nWest Joseland, GA 4...   \n",
       "9  Charles Czachorowski  6798 Wagner Locks Suite 377\\r\\nLake Brenda, DC...   \n",
       "\n",
       "    age      sex        date_of_birth  \n",
       "0    39     Male           1979-12-14  \n",
       "1    65   Female           1953-11-21  \n",
       "2    50   Female           1969-03-06  \n",
       "3    47     Male           1972-02-28  \n",
       "4    46   Female  1973-10-05 00 00 00  \n",
       "5 -5600     Male  1963-07-25 00:00:00  \n",
       "6    57   Female  1962-08-22 00:00:00  \n",
       "7    70     Male  1948-10-30 00:00:00  \n",
       "8    49     Male           17/02/1970  \n",
       "9  5200     Male           1967-01-04  "
      ]
     },
     "execution_count": 120,
     "metadata": {},
     "output_type": "execute_result"
    }
   ],
   "source": [
    "personal_train.head(10)"
   ]
  },
  {
   "cell_type": "markdown",
   "metadata": {},
   "source": [
    "Zobrazíme si informácie o datasete."
   ]
  },
  {
   "cell_type": "code",
   "execution_count": 122,
   "metadata": {},
   "outputs": [
    {
     "name": "stdout",
     "output_type": "stream",
     "text": [
      "<class 'pandas.core.frame.DataFrame'>\n",
      "Int64Index: 3933 entries, 0 to 3932\n",
      "Data columns (total 5 columns):\n",
      "name             3933 non-null object\n",
      "address          3933 non-null object\n",
      "age              3933 non-null int64\n",
      "sex              3933 non-null object\n",
      "date_of_birth    3933 non-null object\n",
      "dtypes: int64(1), object(4)\n",
      "memory usage: 184.4+ KB\n"
     ]
    }
   ],
   "source": [
    "personal_train.info()"
   ]
  },
  {
   "cell_type": "markdown",
   "metadata": {},
   "source": [
    "### Opis atribútov \n",
    "**počet záznamov: 3933**, \n",
    "**počet atribútov: 5**\n",
    "\n",
    "* **name** \n",
    "    - meno osoby v datasete\n",
    "    - type object\n",
    "* **address** \n",
    "    - adresa osoby v datasete\n",
    "    - type object\n",
    "* **age** \n",
    "    - vek osoby v datasete\n",
    "    - type int64\n",
    "* **sex** \n",
    "    - pohlavie osoby v datasete\n",
    "    - type object\n",
    "* **date_of_birth** \n",
    "    - dátum narodenia osoby v datasete\n",
    "    - type object"
   ]
  },
  {
   "cell_type": "code",
   "execution_count": 123,
   "metadata": {},
   "outputs": [
    {
     "data": {
      "text/plain": [
       "name             0\n",
       "address          0\n",
       "age              0\n",
       "sex              0\n",
       "date_of_birth    0\n",
       "dtype: int64"
      ]
     },
     "execution_count": 123,
     "metadata": {},
     "output_type": "execute_result"
    }
   ],
   "source": [
    "personal_train.isna().sum()"
   ]
  },
  {
   "cell_type": "markdown",
   "metadata": {},
   "source": [
    "Zistili sme, že v datasete sa nenachádzajú žiadne chýbajúce hodnoty."
   ]
  },
  {
   "cell_type": "code",
   "execution_count": 124,
   "metadata": {},
   "outputs": [
    {
     "data": {
      "text/plain": [
       "<matplotlib.axes._subplots.AxesSubplot at 0x1e7fdd06898>"
      ]
     },
     "execution_count": 124,
     "metadata": {},
     "output_type": "execute_result"
    },
    {
     "data": {
      "image/png": "[encoded data removed]",
      "text/plain": [
       "<Figure size 432x288 with 1 Axes>"
      ]
     },
     "metadata": {
      "needs_background": "light"
     },
     "output_type": "display_data"
    }
   ],
   "source": [
    "personal_train[\"age\"].plot.hist()"
   ]
  },
  {
   "cell_type": "markdown",
   "metadata": {},
   "source": [
    "Ako vyplýva z grafu, v datasete sa nachádzajú nezmyselné údaje, keďže človek nemôže mať menej ako 0 rokov a ani viac ako napríklad 130 rokov."
   ]
  },
  {
   "cell_type": "code",
   "execution_count": 125,
   "metadata": {},
   "outputs": [],
   "source": [
    "personal_train = personal_train[(personal_train.age < 130) & (personal_train.age >= 0)]"
   ]
  },
  {
   "cell_type": "markdown",
   "metadata": {},
   "source": [
    "Odfiltrovali sme záznamy, kde mali ľudia zaznamenaný vek menší ako 0 alebo väčší ako 130. Urobili sme tak preto, aby sa z údajov dala spraviť základná štatistika a nebola tak skreslená nezmyselnými príliš veľkými alebo príliš malými číslami. A takto rozumnejšie teraz vyzerá histogram veku ľudí:"
   ]
  },
  {
   "cell_type": "code",
   "execution_count": 126,
   "metadata": {},
   "outputs": [
    {
     "data": {
      "text/plain": [
       "<matplotlib.axes._subplots.AxesSubplot at 0x1e7f9262e48>"
      ]
     },
     "execution_count": 126,
     "metadata": {},
     "output_type": "execute_result"
    },
    {
     "data": {
      "image/png": "[encoded data removed]",
      "text/plain": [
       "<Figure size 432x288 with 1 Axes>"
      ]
     },
     "metadata": {
      "needs_background": "light"
     },
     "output_type": "display_data"
    }
   ],
   "source": [
    "personal_train[\"age\"].plot.hist()"
   ]
  },
  {
   "cell_type": "code",
   "execution_count": 127,
   "metadata": {},
   "outputs": [
    {
     "data": {
      "text/html": [
       "<div>\n",
       "<style scoped>\n",
       "    .dataframe tbody tr th:only-of-type {\n",
       "        vertical-align: middle;\n",
       "    }\n",
       "\n",
       "    .dataframe tbody tr th {\n",
       "        vertical-align: top;\n",
       "    }\n",
       "\n",
       "    .dataframe thead th {\n",
       "        text-align: right;\n",
       "    }\n",
       "</style>\n",
       "<table border=\"1\" class=\"dataframe\">\n",
       "  <thead>\n",
       "    <tr style=\"text-align: right;\">\n",
       "      <th></th>\n",
       "      <th>age</th>\n",
       "    </tr>\n",
       "  </thead>\n",
       "  <tbody>\n",
       "    <tr>\n",
       "      <th>count</th>\n",
       "      <td>3539.000000</td>\n",
       "    </tr>\n",
       "    <tr>\n",
       "      <th>mean</th>\n",
       "      <td>51.771404</td>\n",
       "    </tr>\n",
       "    <tr>\n",
       "      <th>std</th>\n",
       "      <td>11.813298</td>\n",
       "    </tr>\n",
       "    <tr>\n",
       "      <th>min</th>\n",
       "      <td>3.000000</td>\n",
       "    </tr>\n",
       "    <tr>\n",
       "      <th>25%</th>\n",
       "      <td>44.000000</td>\n",
       "    </tr>\n",
       "    <tr>\n",
       "      <th>50%</th>\n",
       "      <td>52.000000</td>\n",
       "    </tr>\n",
       "    <tr>\n",
       "      <th>75%</th>\n",
       "      <td>59.000000</td>\n",
       "    </tr>\n",
       "    <tr>\n",
       "      <th>max</th>\n",
       "      <td>113.000000</td>\n",
       "    </tr>\n",
       "  </tbody>\n",
       "</table>\n",
       "</div>"
      ],
      "text/plain": [
       "               age\n",
       "count  3539.000000\n",
       "mean     51.771404\n",
       "std      11.813298\n",
       "min       3.000000\n",
       "25%      44.000000\n",
       "50%      52.000000\n",
       "75%      59.000000\n",
       "max     113.000000"
      ]
     },
     "execution_count": 127,
     "metadata": {},
     "output_type": "execute_result"
    }
   ],
   "source": [
    "personal_train.describe(include = np.number)"
   ]
  },
  {
   "cell_type": "markdown",
   "metadata": {},
   "source": [
    "Deskriptívna štatistika pre číselné atribúty."
   ]
  },
  {
   "cell_type": "code",
   "execution_count": 128,
   "metadata": {},
   "outputs": [
    {
     "data": {
      "text/html": [
       "<div>\n",
       "<style scoped>\n",
       "    .dataframe tbody tr th:only-of-type {\n",
       "        vertical-align: middle;\n",
       "    }\n",
       "\n",
       "    .dataframe tbody tr th {\n",
       "        vertical-align: top;\n",
       "    }\n",
       "\n",
       "    .dataframe thead th {\n",
       "        text-align: right;\n",
       "    }\n",
       "</style>\n",
       "<table border=\"1\" class=\"dataframe\">\n",
       "  <thead>\n",
       "    <tr style=\"text-align: right;\">\n",
       "      <th></th>\n",
       "      <th>name</th>\n",
       "      <th>address</th>\n",
       "      <th>sex</th>\n",
       "      <th>date_of_birth</th>\n",
       "    </tr>\n",
       "  </thead>\n",
       "  <tbody>\n",
       "    <tr>\n",
       "      <th>count</th>\n",
       "      <td>3539</td>\n",
       "      <td>3539</td>\n",
       "      <td>3539</td>\n",
       "      <td>3539</td>\n",
       "    </tr>\n",
       "    <tr>\n",
       "      <th>unique</th>\n",
       "      <td>3539</td>\n",
       "      <td>3539</td>\n",
       "      <td>2</td>\n",
       "      <td>3359</td>\n",
       "    </tr>\n",
       "    <tr>\n",
       "      <th>top</th>\n",
       "      <td>Leonard Cope</td>\n",
       "      <td>521 Gallegos Islands\\r\\nWest Brian, KS 37357</td>\n",
       "      <td>Male</td>\n",
       "      <td>1963-08-16</td>\n",
       "    </tr>\n",
       "    <tr>\n",
       "      <th>freq</th>\n",
       "      <td>1</td>\n",
       "      <td>1</td>\n",
       "      <td>2384</td>\n",
       "      <td>3</td>\n",
       "    </tr>\n",
       "  </tbody>\n",
       "</table>\n",
       "</div>"
      ],
      "text/plain": [
       "                name                                       address    sex  \\\n",
       "count           3539                                          3539   3539   \n",
       "unique          3539                                          3539      2   \n",
       "top     Leonard Cope  521 Gallegos Islands\\r\\nWest Brian, KS 37357   Male   \n",
       "freq               1                                             1   2384   \n",
       "\n",
       "       date_of_birth  \n",
       "count           3539  \n",
       "unique          3359  \n",
       "top       1963-08-16  \n",
       "freq               3  "
      ]
     },
     "execution_count": 128,
     "metadata": {},
     "output_type": "execute_result"
    }
   ],
   "source": [
    "personal_train.describe(exclude = np.number)"
   ]
  },
  {
   "cell_type": "markdown",
   "metadata": {},
   "source": [
    "Deskriptívna štatistika pre nečíselné atribúty."
   ]
  },
  {
   "cell_type": "code",
   "execution_count": 129,
   "metadata": {},
   "outputs": [
    {
     "data": {
      "text/plain": [
       "array([' Male', ' Female'], dtype=object)"
      ]
     },
     "execution_count": 129,
     "metadata": {},
     "output_type": "execute_result"
    }
   ],
   "source": [
    "personal_train['sex'].unique()"
   ]
  },
  {
   "cell_type": "markdown",
   "metadata": {},
   "source": [
    "Keďže atribút pohlavie je kategorický, overili sme si, či sa tam nachádzajú kategórie muž a žena v konzistentných formátoch."
   ]
  },
  {
   "cell_type": "code",
   "execution_count": 130,
   "metadata": {},
   "outputs": [
    {
     "data": {
      "text/plain": [
       "<matplotlib.axes._subplots.AxesSubplot at 0x1e7fdb55978>"
      ]
     },
     "execution_count": 130,
     "metadata": {},
     "output_type": "execute_result"
    },
    {
     "data": {
      "image/png": "[encoded data removed]",
      "text/plain": [
       "<Figure size 432x288 with 1 Axes>"
      ]
     },
     "metadata": {},
     "output_type": "display_data"
    }
   ],
   "source": [
    "personal_train['sex'].value_counts().plot(kind=\"pie\")"
   ]
  },
  {
   "cell_type": "markdown",
   "metadata": {},
   "source": [
    "Vykreslenie pomeru mužov a žien."
   ]
  },
  {
   "cell_type": "markdown",
   "metadata": {},
   "source": [
    "### Deskriptívne štatistické údaje pre nečíselné atribúty nám vrátili:\n",
    "\n",
    "* počet unikátnych mien sa zhoduje s celkovým počtom mien, z čoho vyplýva, že v datasete nie sú žiadni menovci (duplikáty)\n",
    "* atribút pohlavia je distribuovaný iba medzi dve hodnoty, a to na mužov a ženy\n",
    "* z 3933 ľudí v datasete až 2646 záznamov patrí mužom\n",
    "* najčastejší dátum narodenia je 12. februára 1963, presne 4 osoby sa narodili v rovnaký deň\n",
    "\n",
    "### Deskriptívne štatistické údaje pre číselné atribúty nám vrátili:\n",
    "\n",
    "* primerný vek je 51,77 roka\n",
    "* až 75% záznamov je od ľudí starších ako 44 rokov\n",
    "* iba 25% záznamov je od ľudí starších ako 59 rokov\n",
    "* medzikvartilové rozpätie je teda 15 rokov a z predošlých záznamov nám z toho vyplýva, že 50% záznamov je od ľudí približne stredného veku\n",
    "* vekový rozsah je od 3 po 113 rokov\n"
   ]
  },
  {
   "cell_type": "markdown",
   "metadata": {},
   "source": [
    "###  Problémy v datasete\n",
    "* dátumy narodenia sú v rôznych formátoch\n",
    "* roky niektorých ľudí sú mimo rozumný rozsah\n",
    "* v adrese sa nachádzajú znaky \\r\\n"
   ]
  },
  {
   "cell_type": "markdown",
   "metadata": {},
   "source": [
    "Párovú analýzu a hypotézy nemá v tomto datasete zmysel robiť."
   ]
  },
  {
   "cell_type": "markdown",
   "metadata": {},
   "source": [
    "\n",
    "\n",
    "\n",
    "\n",
    "# DATASET other_train"
   ]
  },
  {
   "cell_type": "markdown",
   "metadata": {},
   "source": [
    "Dataset other_train obsahuje zdravotné údaje o ľuďoch, ktorí sa zúčastnili meraní."
   ]
  },
  {
   "cell_type": "code",
   "execution_count": 146,
   "metadata": {},
   "outputs": [
    {
     "data": {
      "text/html": [
       "<div>\n",
       "<style scoped>\n",
       "    .dataframe tbody tr th:only-of-type {\n",
       "        vertical-align: middle;\n",
       "    }\n",
       "\n",
       "    .dataframe tbody tr th {\n",
       "        vertical-align: top;\n",
       "    }\n",
       "\n",
       "    .dataframe thead th {\n",
       "        text-align: right;\n",
       "    }\n",
       "</style>\n",
       "<table border=\"1\" class=\"dataframe\">\n",
       "  <thead>\n",
       "    <tr style=\"text-align: right;\">\n",
       "      <th></th>\n",
       "      <th>name</th>\n",
       "      <th>address</th>\n",
       "      <th>kurtosis_oxygen</th>\n",
       "      <th>pregnant</th>\n",
       "      <th>education-num</th>\n",
       "      <th>relationship</th>\n",
       "      <th>skewness_glucose</th>\n",
       "      <th>mean_glucose</th>\n",
       "      <th>std_oxygen</th>\n",
       "      <th>capital-gain</th>\n",
       "      <th>...</th>\n",
       "      <th>kurtosis_glucose</th>\n",
       "      <th>personal_info</th>\n",
       "      <th>education</th>\n",
       "      <th>fnlwgt</th>\n",
       "      <th>class</th>\n",
       "      <th>std_glucose</th>\n",
       "      <th>income</th>\n",
       "      <th>mean_oxygen</th>\n",
       "      <th>hours-per-week</th>\n",
       "      <th>capital-loss</th>\n",
       "    </tr>\n",
       "  </thead>\n",
       "  <tbody>\n",
       "    <tr>\n",
       "      <th>0</th>\n",
       "      <td>Brian Newhall</td>\n",
       "      <td>52925 Barton Ville Suite 664\\r\\nEast Whitney, ...</td>\n",
       "      <td>8.289889</td>\n",
       "      <td>f</td>\n",
       "      <td>14.0</td>\n",
       "      <td>Not-in-family</td>\n",
       "      <td>-0.378956</td>\n",
       "      <td>119.445312</td>\n",
       "      <td>17.929757</td>\n",
       "      <td>0.0</td>\n",
       "      <td>...</td>\n",
       "      <td>0.012830</td>\n",
       "      <td>Craft-repair|United-States\\r\\r\\nNever-married ...</td>\n",
       "      <td>Masters</td>\n",
       "      <td>192702.0</td>\n",
       "      <td>0.0</td>\n",
       "      <td>53.143057</td>\n",
       "      <td>&lt;=50K</td>\n",
       "      <td>2.932274</td>\n",
       "      <td>50.0</td>\n",
       "      <td>0.0</td>\n",
       "    </tr>\n",
       "    <tr>\n",
       "      <th>1</th>\n",
       "      <td>Patrick Behne</td>\n",
       "      <td>037 Long Springs\\r\\nPort Maria, OH 58969</td>\n",
       "      <td>4.322444</td>\n",
       "      <td>t</td>\n",
       "      <td>6.0</td>\n",
       "      <td>Husband</td>\n",
       "      <td>4.146348</td>\n",
       "      <td>77.085938</td>\n",
       "      <td>43.980061</td>\n",
       "      <td>0.0</td>\n",
       "      <td>...</td>\n",
       "      <td>1.620462</td>\n",
       "      <td>Other-service|United-States\\r\\r\\nMarried-civ-s...</td>\n",
       "      <td>10th</td>\n",
       "      <td>211116.0</td>\n",
       "      <td>1.0</td>\n",
       "      <td>43.391932</td>\n",
       "      <td>&lt;=50K</td>\n",
       "      <td>10.596154</td>\n",
       "      <td>40.0</td>\n",
       "      <td>0.0</td>\n",
       "    </tr>\n",
       "    <tr>\n",
       "      <th>2</th>\n",
       "      <td>Steven Arnold</td>\n",
       "      <td>471 Kevin Spurs Suite 564\\r\\nReneeland, NC 84482</td>\n",
       "      <td>4.702130</td>\n",
       "      <td>f</td>\n",
       "      <td>5.0</td>\n",
       "      <td>Own-child</td>\n",
       "      <td>-0.170853</td>\n",
       "      <td>126.046875</td>\n",
       "      <td>36.950157</td>\n",
       "      <td>0.0</td>\n",
       "      <td>...</td>\n",
       "      <td>-0.139295</td>\n",
       "      <td>Machine-op-inspct|United-States\\r\\r\\nNever-mar...</td>\n",
       "      <td>9th</td>\n",
       "      <td>173736.0</td>\n",
       "      <td>0.0</td>\n",
       "      <td>50.909365</td>\n",
       "      <td>&lt;=50K</td>\n",
       "      <td>7.939799</td>\n",
       "      <td>40.0</td>\n",
       "      <td>0.0</td>\n",
       "    </tr>\n",
       "  </tbody>\n",
       "</table>\n",
       "<p>3 rows × 21 columns</p>\n",
       "</div>"
      ],
      "text/plain": [
       "            name                                            address  \\\n",
       "0  Brian Newhall  52925 Barton Ville Suite 664\\r\\nEast Whitney, ...   \n",
       "1  Patrick Behne           037 Long Springs\\r\\nPort Maria, OH 58969   \n",
       "2  Steven Arnold   471 Kevin Spurs Suite 564\\r\\nReneeland, NC 84482   \n",
       "\n",
       "   kurtosis_oxygen pregnant  education-num    relationship  skewness_glucose  \\\n",
       "0         8.289889        f           14.0   Not-in-family         -0.378956   \n",
       "1         4.322444        t            6.0         Husband          4.146348   \n",
       "2         4.702130        f            5.0       Own-child         -0.170853   \n",
       "\n",
       "   mean_glucose  std_oxygen  capital-gain  ...  kurtosis_glucose  \\\n",
       "0    119.445312   17.929757           0.0  ...          0.012830   \n",
       "1     77.085938   43.980061           0.0  ...          1.620462   \n",
       "2    126.046875   36.950157           0.0  ...         -0.139295   \n",
       "\n",
       "                                       personal_info education    fnlwgt  \\\n",
       "0  Craft-repair|United-States\\r\\r\\nNever-married ...   Masters  192702.0   \n",
       "1  Other-service|United-States\\r\\r\\nMarried-civ-s...      10th  211116.0   \n",
       "2  Machine-op-inspct|United-States\\r\\r\\nNever-mar...       9th  173736.0   \n",
       "\n",
       "   class  std_glucose  income mean_oxygen  hours-per-week  capital-loss  \n",
       "0    0.0    53.143057   <=50K    2.932274            50.0           0.0  \n",
       "1    1.0    43.391932   <=50K   10.596154            40.0           0.0  \n",
       "2    0.0    50.909365   <=50K    7.939799            40.0           0.0  \n",
       "\n",
       "[3 rows x 21 columns]"
      ]
     },
     "execution_count": 146,
     "metadata": {},
     "output_type": "execute_result"
    }
   ],
   "source": [
    "other_train.head(3)"
   ]
  },
  {
   "cell_type": "code",
   "execution_count": 144,
   "metadata": {},
   "outputs": [
    {
     "data": {
      "text/plain": [
       "0    Craft-repair|United-States\\r\\r\\nNever-married ...\n",
       "1    Other-service|United-States\\r\\r\\nMarried-civ-s...\n",
       "2    Machine-op-inspct|United-States\\r\\r\\nNever-mar...\n",
       "3    Prof-specialty|United-States\\r\\r\\nMarried-civ-...\n",
       "4    Sales|United-States\\r\\r\\nMarried-civ-spouse --...\n",
       "Name: personal_info, dtype: object"
      ]
     },
     "execution_count": 144,
     "metadata": {},
     "output_type": "execute_result"
    }
   ],
   "source": [
    "other_train.personal_info.head()"
   ]
  },
  {
   "cell_type": "markdown",
   "metadata": {},
   "source": [
    "Všimli sme si, že atribút personal_info v sebe ukrýva osobné údaje - ďalšie atribúty. Chceme ho rozložiť, aby sme s ním vedeli pracovať."
   ]
  },
  {
   "cell_type": "code",
   "execution_count": 149,
   "metadata": {},
   "outputs": [],
   "source": [
    "def process_pi(text):\n",
    "    if pd.isnull(text):\n",
    "        return pd.Series([np.nan]*5)\n",
    "    splitted_pi = re.split('[| \\r\\r\\n]',text)\n",
    "    splitted_pi = list(filter(None,splitted_pi))\n",
    "    splitted_pi.remove(\"--\")\n",
    "    return pd.Series([splitted_pi[0],splitted_pi[1],splitted_pi[2],splitted_pi[3],splitted_pi[4]])"
   ]
  },
  {
   "cell_type": "markdown",
   "metadata": {},
   "source": [
    "Funkcia process_pi vie rozdeliť reťazec na jednotlivé atribúty podľa oddeľujúcich znakov."
   ]
  },
  {
   "cell_type": "code",
   "execution_count": 150,
   "metadata": {},
   "outputs": [],
   "source": [
    "other_train[['job','state','family_status','home','color']] = other_train['personal_info'].apply(process_pi)"
   ]
  },
  {
   "cell_type": "markdown",
   "metadata": {},
   "source": [
    "Rozloženie atribútu personal_info."
   ]
  },
  {
   "cell_type": "code",
   "execution_count": 151,
   "metadata": {},
   "outputs": [],
   "source": [
    "del other_train[\"personal_info\"]"
   ]
  },
  {
   "cell_type": "markdown",
   "metadata": {},
   "source": [
    "Vymazanie samotného atribútu personal_info - je už zbytočný."
   ]
  },
  {
   "cell_type": "markdown",
   "metadata": {},
   "source": [
    "Zobrazíme si informácie o datasete."
   ]
  },
  {
   "cell_type": "code",
   "execution_count": 152,
   "metadata": {},
   "outputs": [
    {
     "name": "stdout",
     "output_type": "stream",
     "text": [
      "<class 'pandas.core.frame.DataFrame'>\n",
      "Int64Index: 3983 entries, 0 to 3982\n",
      "Data columns (total 25 columns):\n",
      "name                3983 non-null object\n",
      "address             3983 non-null object\n",
      "kurtosis_oxygen     3962 non-null float64\n",
      "pregnant            3968 non-null object\n",
      "education-num       3972 non-null float64\n",
      "relationship        3970 non-null object\n",
      "skewness_glucose    3971 non-null float64\n",
      "mean_glucose        3567 non-null float64\n",
      "std_oxygen          3965 non-null float64\n",
      "capital-gain        3975 non-null float64\n",
      "skewness_oxygen     3968 non-null float64\n",
      "kurtosis_glucose    3969 non-null float64\n",
      "education           3969 non-null object\n",
      "fnlwgt              3964 non-null float64\n",
      "class               3970 non-null float64\n",
      "std_glucose         3974 non-null float64\n",
      "income              3968 non-null object\n",
      "mean_oxygen         3969 non-null float64\n",
      "hours-per-week      3967 non-null float64\n",
      "capital-loss        3971 non-null float64\n",
      "job                 3970 non-null object\n",
      "state               3970 non-null object\n",
      "family_status       3970 non-null object\n",
      "home                3970 non-null object\n",
      "color               3970 non-null object\n",
      "dtypes: float64(14), object(11)\n",
      "memory usage: 809.0+ KB\n"
     ]
    }
   ],
   "source": [
    "other_train.info()"
   ]
  },
  {
   "cell_type": "markdown",
   "metadata": {},
   "source": [
    "### Opis atribútov \n",
    "**počet záznamov: 3983**, \n",
    "**počet atribútov: 25** (po rozložení atribútu personal_info do viacerých atribútov)\n",
    "\n",
    "###### Základné údaje:\n",
    "* **name** \n",
    "    - meno osoby\n",
    "    - typ object\n",
    "* **address**\n",
    "    - adresa osoby\n",
    "    - typ object\n",
    "* **state**               \n",
    "    - štát\n",
    "    - typ object\n",
    "* **class**               \n",
    "    - stav cukrovky\n",
    "    - typ float64\n",
    "    \n",
    "###### Meranie cukru:\n",
    "* **mean_glucose**\n",
    "    - priemerná hodnota cukru\n",
    "    - typ float64\n",
    "* **std_glucose**\n",
    "    - štandardná odchýlka pri meraní cukru\n",
    "    - typ float64\n",
    "* **skewness_glucose** \n",
    "    - koeficient asymetrie z hodnôt cukru\n",
    "    - typ float64\n",
    "* **kurtosis_glucose**    \n",
    "    - koeficient špicatosti z hodnôt cukru\n",
    "    - typ float64\n",
    "    \n",
    "###### Meranie kyslíka:\n",
    "* **mean_oxygen**\n",
    "    - priemerná hodnota kyslíka\n",
    "    - typ float64\n",
    "* **std_oxygen** \n",
    "    - štandardná odchýlka pri meraní kyslíka \n",
    "    - typ float64\n",
    "* **skewness_oxygen**     \n",
    "    - koeficient asymetrie z hodnôt kyslíka\n",
    "    - typ float64\n",
    "* **kurtosis_oxygen**\n",
    "    - koeficient špicatosti z hodnôt kyslíka\n",
    "    - typ float64\n",
    "    \n",
    "###### Iné údaje:\n",
    "* **pregnant**\n",
    "    - stav tehotenstva\n",
    "    - typ object\n",
    "* **home**                \n",
    "    - typ bývania\n",
    "    - typ object\n",
    "* **education**           \n",
    "    - najvyššie dosiahnuté vzdelanie\n",
    "    - typ object\n",
    "* **education-num**\n",
    "    - vzdelanie\n",
    "    - typ float64\n",
    "* **family_status**       \n",
    "    - rodinný stav \n",
    "    - typ object\n",
    "* **relationship** \n",
    "    - vzťah\n",
    "    - typ float64\n",
    "* **job**                \n",
    "    - práca\n",
    "    - typ object\n",
    "* **income**\n",
    "    - príjem osoby \n",
    "    - typ object\n",
    "* **hours-per-week**\n",
    "    - pracovný čas \n",
    "    - typ float64\n",
    "* **capital-gain**\n",
    "    - zarobený kapitál \n",
    "    - typ float64\n",
    "* **capital-loss**  \n",
    "    - stratený kapitál \n",
    "    - typ float64\n",
    "* **fnlwgt**              \n",
    "    - dôležitosť osoby \n",
    "    - typ float64\n",
    "* **color**               \n",
    "    - rasa \n",
    "    - typ object"
   ]
  },
  {
   "cell_type": "code",
   "execution_count": 139,
   "metadata": {},
   "outputs": [
    {
     "data": {
      "text/plain": [
       "name                  0\n",
       "address               0\n",
       "kurtosis_oxygen      21\n",
       "pregnant             15\n",
       "education-num        11\n",
       "relationship         13\n",
       "skewness_glucose     12\n",
       "mean_glucose        416\n",
       "std_oxygen           18\n",
       "capital-gain          8\n",
       "skewness_oxygen      15\n",
       "kurtosis_glucose     14\n",
       "education            14\n",
       "fnlwgt               19\n",
       "class                13\n",
       "std_glucose           9\n",
       "income               15\n",
       "mean_oxygen          14\n",
       "hours-per-week       16\n",
       "capital-loss         12\n",
       "job                  13\n",
       "state                13\n",
       "family_status        13\n",
       "home                 13\n",
       "color                13\n",
       "dtype: int64"
      ]
     },
     "execution_count": 139,
     "metadata": {},
     "output_type": "execute_result"
    }
   ],
   "source": [
    "other_train.isna().sum()"
   ]
  },
  {
   "cell_type": "markdown",
   "metadata": {},
   "source": [
    "Tento dataset má množstvo nevyplnených údajov, najviac chýbajúcich je pre atribút mean_glucose. Tieto hodnoty bude potrebné v 2. fáze upraviť alebo odstrániť."
   ]
  },
  {
   "cell_type": "markdown",
   "metadata": {},
   "source": [
    "## Analýza po jednom: Numerické atribúty"
   ]
  },
  {
   "cell_type": "code",
   "execution_count": 153,
   "metadata": {
    "scrolled": true
   },
   "outputs": [
    {
     "data": {
      "text/html": [
       "<div>\n",
       "<style scoped>\n",
       "    .dataframe tbody tr th:only-of-type {\n",
       "        vertical-align: middle;\n",
       "    }\n",
       "\n",
       "    .dataframe tbody tr th {\n",
       "        vertical-align: top;\n",
       "    }\n",
       "\n",
       "    .dataframe thead th {\n",
       "        text-align: right;\n",
       "    }\n",
       "</style>\n",
       "<table border=\"1\" class=\"dataframe\">\n",
       "  <thead>\n",
       "    <tr style=\"text-align: right;\">\n",
       "      <th></th>\n",
       "      <th>kurtosis_oxygen</th>\n",
       "      <th>education-num</th>\n",
       "      <th>skewness_glucose</th>\n",
       "      <th>mean_glucose</th>\n",
       "      <th>std_oxygen</th>\n",
       "      <th>capital-gain</th>\n",
       "      <th>skewness_oxygen</th>\n",
       "      <th>kurtosis_glucose</th>\n",
       "      <th>fnlwgt</th>\n",
       "      <th>class</th>\n",
       "      <th>std_glucose</th>\n",
       "      <th>mean_oxygen</th>\n",
       "      <th>hours-per-week</th>\n",
       "      <th>capital-loss</th>\n",
       "    </tr>\n",
       "  </thead>\n",
       "  <tbody>\n",
       "    <tr>\n",
       "      <th>count</th>\n",
       "      <td>3962.000000</td>\n",
       "      <td>3972.000000</td>\n",
       "      <td>3971.000000</td>\n",
       "      <td>3567.000000</td>\n",
       "      <td>3965.000000</td>\n",
       "      <td>3975.000000</td>\n",
       "      <td>3968.000000</td>\n",
       "      <td>3969.000000</td>\n",
       "      <td>3.964000e+03</td>\n",
       "      <td>3970.000000</td>\n",
       "      <td>3974.000000</td>\n",
       "      <td>3969.000000</td>\n",
       "      <td>3967.000000</td>\n",
       "      <td>3971.000000</td>\n",
       "    </tr>\n",
       "    <tr>\n",
       "      <th>mean</th>\n",
       "      <td>7.428899</td>\n",
       "      <td>10.085851</td>\n",
       "      <td>4.192579</td>\n",
       "      <td>101.327023</td>\n",
       "      <td>31.117496</td>\n",
       "      <td>932.459371</td>\n",
       "      <td>91.430852</td>\n",
       "      <td>0.946330</td>\n",
       "      <td>1.905427e+05</td>\n",
       "      <td>0.254660</td>\n",
       "      <td>45.196785</td>\n",
       "      <td>18.374766</td>\n",
       "      <td>40.666247</td>\n",
       "      <td>88.003274</td>\n",
       "    </tr>\n",
       "    <tr>\n",
       "      <th>std</th>\n",
       "      <td>4.817449</td>\n",
       "      <td>2.617172</td>\n",
       "      <td>9.648298</td>\n",
       "      <td>33.521820</td>\n",
       "      <td>22.262023</td>\n",
       "      <td>6403.008032</td>\n",
       "      <td>108.622734</td>\n",
       "      <td>1.605552</td>\n",
       "      <td>1.041594e+05</td>\n",
       "      <td>0.435725</td>\n",
       "      <td>7.613055</td>\n",
       "      <td>34.663280</td>\n",
       "      <td>12.171287</td>\n",
       "      <td>403.844322</td>\n",
       "    </tr>\n",
       "    <tr>\n",
       "      <th>min</th>\n",
       "      <td>-2.597872</td>\n",
       "      <td>1.000000</td>\n",
       "      <td>-1.755332</td>\n",
       "      <td>6.187500</td>\n",
       "      <td>7.370432</td>\n",
       "      <td>0.000000</td>\n",
       "      <td>-1.976976</td>\n",
       "      <td>-1.641515</td>\n",
       "      <td>1.941000e+04</td>\n",
       "      <td>0.000000</td>\n",
       "      <td>25.695250</td>\n",
       "      <td>0.213211</td>\n",
       "      <td>1.000000</td>\n",
       "      <td>0.000000</td>\n",
       "    </tr>\n",
       "    <tr>\n",
       "      <th>25%</th>\n",
       "      <td>3.667526</td>\n",
       "      <td>9.000000</td>\n",
       "      <td>-0.120195</td>\n",
       "      <td>87.660156</td>\n",
       "      <td>15.024700</td>\n",
       "      <td>0.000000</td>\n",
       "      <td>12.928386</td>\n",
       "      <td>0.071229</td>\n",
       "      <td>1.178878e+05</td>\n",
       "      <td>0.000000</td>\n",
       "      <td>40.199113</td>\n",
       "      <td>2.061873</td>\n",
       "      <td>40.000000</td>\n",
       "      <td>0.000000</td>\n",
       "    </tr>\n",
       "    <tr>\n",
       "      <th>50%</th>\n",
       "      <td>7.787156</td>\n",
       "      <td>10.000000</td>\n",
       "      <td>0.372981</td>\n",
       "      <td>110.640625</td>\n",
       "      <td>20.547873</td>\n",
       "      <td>0.000000</td>\n",
       "      <td>68.505049</td>\n",
       "      <td>0.310186</td>\n",
       "      <td>1.807455e+05</td>\n",
       "      <td>0.000000</td>\n",
       "      <td>45.895487</td>\n",
       "      <td>3.237458</td>\n",
       "      <td>40.000000</td>\n",
       "      <td>0.000000</td>\n",
       "    </tr>\n",
       "    <tr>\n",
       "      <th>75%</th>\n",
       "      <td>10.278883</td>\n",
       "      <td>13.000000</td>\n",
       "      <td>2.067417</td>\n",
       "      <td>124.277344</td>\n",
       "      <td>43.124802</td>\n",
       "      <td>0.000000</td>\n",
       "      <td>127.057043</td>\n",
       "      <td>0.770947</td>\n",
       "      <td>2.384682e+05</td>\n",
       "      <td>1.000000</td>\n",
       "      <td>50.376893</td>\n",
       "      <td>12.603679</td>\n",
       "      <td>45.000000</td>\n",
       "      <td>0.000000</td>\n",
       "    </tr>\n",
       "    <tr>\n",
       "      <th>max</th>\n",
       "      <td>34.539844</td>\n",
       "      <td>16.000000</td>\n",
       "      <td>68.101622</td>\n",
       "      <td>189.734375</td>\n",
       "      <td>110.642211</td>\n",
       "      <td>99999.000000</td>\n",
       "      <td>1191.000837</td>\n",
       "      <td>8.069522</td>\n",
       "      <td>1.268339e+06</td>\n",
       "      <td>1.000000</td>\n",
       "      <td>91.206475</td>\n",
       "      <td>217.371238</td>\n",
       "      <td>99.000000</td>\n",
       "      <td>3900.000000</td>\n",
       "    </tr>\n",
       "  </tbody>\n",
       "</table>\n",
       "</div>"
      ],
      "text/plain": [
       "       kurtosis_oxygen  education-num  skewness_glucose  mean_glucose  \\\n",
       "count      3962.000000    3972.000000       3971.000000   3567.000000   \n",
       "mean          7.428899      10.085851          4.192579    101.327023   \n",
       "std           4.817449       2.617172          9.648298     33.521820   \n",
       "min          -2.597872       1.000000         -1.755332      6.187500   \n",
       "25%           3.667526       9.000000         -0.120195     87.660156   \n",
       "50%           7.787156      10.000000          0.372981    110.640625   \n",
       "75%          10.278883      13.000000          2.067417    124.277344   \n",
       "max          34.539844      16.000000         68.101622    189.734375   \n",
       "\n",
       "        std_oxygen  capital-gain  skewness_oxygen  kurtosis_glucose  \\\n",
       "count  3965.000000   3975.000000      3968.000000       3969.000000   \n",
       "mean     31.117496    932.459371        91.430852          0.946330   \n",
       "std      22.262023   6403.008032       108.622734          1.605552   \n",
       "min       7.370432      0.000000        -1.976976         -1.641515   \n",
       "25%      15.024700      0.000000        12.928386          0.071229   \n",
       "50%      20.547873      0.000000        68.505049          0.310186   \n",
       "75%      43.124802      0.000000       127.057043          0.770947   \n",
       "max     110.642211  99999.000000      1191.000837          8.069522   \n",
       "\n",
       "             fnlwgt        class  std_glucose  mean_oxygen  hours-per-week  \\\n",
       "count  3.964000e+03  3970.000000  3974.000000  3969.000000     3967.000000   \n",
       "mean   1.905427e+05     0.254660    45.196785    18.374766       40.666247   \n",
       "std    1.041594e+05     0.435725     7.613055    34.663280       12.171287   \n",
       "min    1.941000e+04     0.000000    25.695250     0.213211        1.000000   \n",
       "25%    1.178878e+05     0.000000    40.199113     2.061873       40.000000   \n",
       "50%    1.807455e+05     0.000000    45.895487     3.237458       40.000000   \n",
       "75%    2.384682e+05     1.000000    50.376893    12.603679       45.000000   \n",
       "max    1.268339e+06     1.000000    91.206475   217.371238       99.000000   \n",
       "\n",
       "       capital-loss  \n",
       "count   3971.000000  \n",
       "mean      88.003274  \n",
       "std      403.844322  \n",
       "min        0.000000  \n",
       "25%        0.000000  \n",
       "50%        0.000000  \n",
       "75%        0.000000  \n",
       "max     3900.000000  "
      ]
     },
     "execution_count": 153,
     "metadata": {},
     "output_type": "execute_result"
    }
   ],
   "source": [
    "other_train.describe(include = np.number)"
   ]
  },
  {
   "cell_type": "markdown",
   "metadata": {},
   "source": [
    "Základná deskriptívna štatistika pre numerické atribúty."
   ]
  },
  {
   "cell_type": "markdown",
   "metadata": {},
   "source": [
    "### kurtosis_oxygen"
   ]
  },
  {
   "cell_type": "code",
   "execution_count": 155,
   "metadata": {},
   "outputs": [
    {
     "data": {
      "text/plain": [
       "<matplotlib.axes._subplots.AxesSubplot at 0x1e7fe971940>"
      ]
     },
     "execution_count": 155,
     "metadata": {},
     "output_type": "execute_result"
    },
    {
     "data": {
      "image/png": "[encoded data removed]",
      "text/plain": [
       "<Figure size 432x288 with 1 Axes>"
      ]
     },
     "metadata": {
      "needs_background": "light"
     },
     "output_type": "display_data"
    }
   ],
   "source": [
    "other_train[\"kurtosis_oxygen\"].plot.hist()"
   ]
  },
  {
   "cell_type": "markdown",
   "metadata": {},
   "source": [
    "### education-num"
   ]
  },
  {
   "cell_type": "code",
   "execution_count": 162,
   "metadata": {},
   "outputs": [
    {
     "data": {
      "text/plain": [
       "<matplotlib.axes._subplots.AxesSubplot at 0x1e7fe0e2208>"
      ]
     },
     "execution_count": 162,
     "metadata": {},
     "output_type": "execute_result"
    },
    {
     "data": {
      "image/png": "[encoded data removed]",
      "text/plain": [
       "<Figure size 432x288 with 1 Axes>"
      ]
     },
     "metadata": {
      "needs_background": "light"
     },
     "output_type": "display_data"
    }
   ],
   "source": [
    "other_train[\"education-num\"].plot.hist()"
   ]
  },
  {
   "cell_type": "markdown",
   "metadata": {},
   "source": [
    "### skewness_glucose"
   ]
  },
  {
   "cell_type": "code",
   "execution_count": 163,
   "metadata": {},
   "outputs": [
    {
     "data": {
      "text/plain": [
       "<matplotlib.axes._subplots.AxesSubplot at 0x1e7fd7310f0>"
      ]
     },
     "execution_count": 163,
     "metadata": {},
     "output_type": "execute_result"
    },
    {
     "data": {
      "image/png": "[encoded data removed]",
      "text/plain": [
       "<Figure size 432x288 with 1 Axes>"
      ]
     },
     "metadata": {
      "needs_background": "light"
     },
     "output_type": "display_data"
    }
   ],
   "source": [
    "other_train[\"skewness_glucose\"].plot.hist()"
   ]
  },
  {
   "cell_type": "markdown",
   "metadata": {},
   "source": [
    "### mean_glucose"
   ]
  },
  {
   "cell_type": "code",
   "execution_count": 175,
   "metadata": {},
   "outputs": [
    {
     "data": {
      "text/plain": [
       "<matplotlib.axes._subplots.AxesSubplot at 0x1e7fe0a2be0>"
      ]
     },
     "execution_count": 175,
     "metadata": {},
     "output_type": "execute_result"
    },
    {
     "data": {
      "image/png": "[encoded data removed]",
      "text/plain": [
       "<Figure size 432x288 with 1 Axes>"
      ]
     },
     "metadata": {
      "needs_background": "light"
     },
     "output_type": "display_data"
    }
   ],
   "source": [
    "other_train[\"mean_glucose\"].plot.hist()"
   ]
  },
  {
   "cell_type": "markdown",
   "metadata": {},
   "source": [
    "### std_oxygen"
   ]
  },
  {
   "cell_type": "code",
   "execution_count": 176,
   "metadata": {},
   "outputs": [
    {
     "data": {
      "text/plain": [
       "<matplotlib.axes._subplots.AxesSubplot at 0x1e7fdf28c18>"
      ]
     },
     "execution_count": 176,
     "metadata": {},
     "output_type": "execute_result"
    },
    {
     "data": {
      "image/png": "[encoded data removed]",
      "text/plain": [
       "<Figure size 432x288 with 1 Axes>"
      ]
     },
     "metadata": {
      "needs_background": "light"
     },
     "output_type": "display_data"
    }
   ],
   "source": [
    "other_train[\"std_oxygen\"].plot.hist()"
   ]
  },
  {
   "cell_type": "markdown",
   "metadata": {},
   "source": [
    "### capital-gain"
   ]
  },
  {
   "cell_type": "code",
   "execution_count": 178,
   "metadata": {},
   "outputs": [
    {
     "data": {
      "text/plain": [
       "<matplotlib.axes._subplots.AxesSubplot at 0x1e7fdae92e8>"
      ]
     },
     "execution_count": 178,
     "metadata": {},
     "output_type": "execute_result"
    },
    {
     "data": {
      "image/png": "[encoded data removed]",
      "text/plain": [
       "<Figure size 432x288 with 1 Axes>"
      ]
     },
     "metadata": {
      "needs_background": "light"
     },
     "output_type": "display_data"
    }
   ],
   "source": [
    "other_train[\"capital-gain\"].plot.hist()"
   ]
  },
  {
   "cell_type": "markdown",
   "metadata": {},
   "source": [
    "### skewness_oxygen"
   ]
  },
  {
   "cell_type": "code",
   "execution_count": 179,
   "metadata": {},
   "outputs": [
    {
     "data": {
      "text/plain": [
       "<matplotlib.axes._subplots.AxesSubplot at 0x1e7fff57b70>"
      ]
     },
     "execution_count": 179,
     "metadata": {},
     "output_type": "execute_result"
    },
    {
     "data": {
      "image/png": "[encoded data removed]",
      "text/plain": [
       "<Figure size 432x288 with 1 Axes>"
      ]
     },
     "metadata": {
      "needs_background": "light"
     },
     "output_type": "display_data"
    }
   ],
   "source": [
    "other_train[\"skewness_oxygen\"].plot.hist()"
   ]
  },
  {
   "cell_type": "markdown",
   "metadata": {},
   "source": [
    "### kurtosis_glucose"
   ]
  },
  {
   "cell_type": "code",
   "execution_count": 180,
   "metadata": {},
   "outputs": [
    {
     "data": {
      "text/plain": [
       "<matplotlib.axes._subplots.AxesSubplot at 0x1e7fea83e48>"
      ]
     },
     "execution_count": 180,
     "metadata": {},
     "output_type": "execute_result"
    },
    {
     "data": {
      "image/png": "[encoded data removed]",
      "text/plain": [
       "<Figure size 432x288 with 1 Axes>"
      ]
     },
     "metadata": {
      "needs_background": "light"
     },
     "output_type": "display_data"
    }
   ],
   "source": [
    "other_train[\"kurtosis_glucose\"].plot.hist()"
   ]
  },
  {
   "cell_type": "markdown",
   "metadata": {},
   "source": [
    "### fnlwgt"
   ]
  },
  {
   "cell_type": "code",
   "execution_count": 181,
   "metadata": {},
   "outputs": [
    {
     "data": {
      "text/plain": [
       "<matplotlib.axes._subplots.AxesSubplot at 0x1e7fea83240>"
      ]
     },
     "execution_count": 181,
     "metadata": {},
     "output_type": "execute_result"
    },
    {
     "data": {
      "image/png": "[encoded data removed]",
      "text/plain": [
       "<Figure size 432x288 with 1 Axes>"
      ]
     },
     "metadata": {
      "needs_background": "light"
     },
     "output_type": "display_data"
    }
   ],
   "source": [
    "other_train[\"fnlwgt\"].plot.hist()"
   ]
  },
  {
   "cell_type": "markdown",
   "metadata": {},
   "source": [
    "### std_glucose"
   ]
  },
  {
   "cell_type": "code",
   "execution_count": 167,
   "metadata": {},
   "outputs": [
    {
     "data": {
      "text/plain": [
       "<matplotlib.axes._subplots.AxesSubplot at 0x1e7fd7ba710>"
      ]
     },
     "execution_count": 167,
     "metadata": {},
     "output_type": "execute_result"
    },
    {
     "data": {
      "image/png": "[encoded data removed]",
      "text/plain": [
       "<Figure size 432x288 with 1 Axes>"
      ]
     },
     "metadata": {
      "needs_background": "light"
     },
     "output_type": "display_data"
    }
   ],
   "source": [
    "other_train[\"std_glucose\"].plot.hist()"
   ]
  },
  {
   "cell_type": "markdown",
   "metadata": {},
   "source": [
    "### mean_oxygen"
   ]
  },
  {
   "cell_type": "code",
   "execution_count": 166,
   "metadata": {},
   "outputs": [
    {
     "data": {
      "text/plain": [
       "<matplotlib.axes._subplots.AxesSubplot at 0x1e7fdf754e0>"
      ]
     },
     "execution_count": 166,
     "metadata": {},
     "output_type": "execute_result"
    },
    {
     "data": {
      "image/png": "[encoded data removed]",
      "text/plain": [
       "<Figure size 432x288 with 1 Axes>"
      ]
     },
     "metadata": {
      "needs_background": "light"
     },
     "output_type": "display_data"
    }
   ],
   "source": [
    "other_train[\"mean_oxygen\"].plot.hist()"
   ]
  },
  {
   "cell_type": "markdown",
   "metadata": {},
   "source": [
    "### hours-per-week"
   ]
  },
  {
   "cell_type": "code",
   "execution_count": 165,
   "metadata": {},
   "outputs": [
    {
     "data": {
      "text/plain": [
       "<matplotlib.axes._subplots.AxesSubplot at 0x1e7fe001710>"
      ]
     },
     "execution_count": 165,
     "metadata": {},
     "output_type": "execute_result"
    },
    {
     "data": {
      "image/png": "[encoded data removed]",
      "text/plain": [
       "<Figure size 432x288 with 1 Axes>"
      ]
     },
     "metadata": {
      "needs_background": "light"
     },
     "output_type": "display_data"
    }
   ],
   "source": [
    "other_train[\"hours-per-week\"].plot.hist()"
   ]
  },
  {
   "cell_type": "markdown",
   "metadata": {},
   "source": [
    "### capital-loss"
   ]
  },
  {
   "cell_type": "code",
   "execution_count": 184,
   "metadata": {},
   "outputs": [
    {
     "data": {
      "text/plain": [
       "<matplotlib.axes._subplots.AxesSubplot at 0x1e780378940>"
      ]
     },
     "execution_count": 184,
     "metadata": {},
     "output_type": "execute_result"
    },
    {
     "data": {
      "image/png": "[encoded data removed]",
      "text/plain": [
       "<Figure size 432x288 with 1 Axes>"
      ]
     },
     "metadata": {
      "needs_background": "light"
     },
     "output_type": "display_data"
    }
   ],
   "source": [
    "other_train[\"capital-loss\"].plot.hist()"
   ]
  },
  {
   "cell_type": "markdown",
   "metadata": {},
   "source": [
    "## Analýza po jednom: Kategorické atribúty"
   ]
  },
  {
   "cell_type": "code",
   "execution_count": 183,
   "metadata": {},
   "outputs": [
    {
     "data": {
      "text/html": [
       "<div>\n",
       "<style scoped>\n",
       "    .dataframe tbody tr th:only-of-type {\n",
       "        vertical-align: middle;\n",
       "    }\n",
       "\n",
       "    .dataframe tbody tr th {\n",
       "        vertical-align: top;\n",
       "    }\n",
       "\n",
       "    .dataframe thead th {\n",
       "        text-align: right;\n",
       "    }\n",
       "</style>\n",
       "<table border=\"1\" class=\"dataframe\">\n",
       "  <thead>\n",
       "    <tr style=\"text-align: right;\">\n",
       "      <th></th>\n",
       "      <th>name</th>\n",
       "      <th>address</th>\n",
       "      <th>pregnant</th>\n",
       "      <th>relationship</th>\n",
       "      <th>education</th>\n",
       "      <th>income</th>\n",
       "      <th>job</th>\n",
       "      <th>state</th>\n",
       "      <th>family_status</th>\n",
       "      <th>home</th>\n",
       "      <th>color</th>\n",
       "    </tr>\n",
       "  </thead>\n",
       "  <tbody>\n",
       "    <tr>\n",
       "      <th>count</th>\n",
       "      <td>3983</td>\n",
       "      <td>3983</td>\n",
       "      <td>3968</td>\n",
       "      <td>3970</td>\n",
       "      <td>3969</td>\n",
       "      <td>3968</td>\n",
       "      <td>3970</td>\n",
       "      <td>3970</td>\n",
       "      <td>3970</td>\n",
       "      <td>3970</td>\n",
       "      <td>3970</td>\n",
       "    </tr>\n",
       "    <tr>\n",
       "      <th>unique</th>\n",
       "      <td>3933</td>\n",
       "      <td>3933</td>\n",
       "      <td>6</td>\n",
       "      <td>6</td>\n",
       "      <td>24</td>\n",
       "      <td>2</td>\n",
       "      <td>15</td>\n",
       "      <td>37</td>\n",
       "      <td>7</td>\n",
       "      <td>11</td>\n",
       "      <td>5</td>\n",
       "    </tr>\n",
       "    <tr>\n",
       "      <th>top</th>\n",
       "      <td>Anthony Colucci</td>\n",
       "      <td>781 Moore Throughway\\r\\nAshleyfurt, WY 94154</td>\n",
       "      <td>f</td>\n",
       "      <td>Husband</td>\n",
       "      <td>HS-grad</td>\n",
       "      <td>&lt;=50K</td>\n",
       "      <td>Prof-specialty</td>\n",
       "      <td>United-States</td>\n",
       "      <td>Married-civ-spouse</td>\n",
       "      <td>Private</td>\n",
       "      <td>White</td>\n",
       "    </tr>\n",
       "    <tr>\n",
       "      <th>freq</th>\n",
       "      <td>2</td>\n",
       "      <td>2</td>\n",
       "      <td>3486</td>\n",
       "      <td>1621</td>\n",
       "      <td>1117</td>\n",
       "      <td>3017</td>\n",
       "      <td>495</td>\n",
       "      <td>3545</td>\n",
       "      <td>1816</td>\n",
       "      <td>2499</td>\n",
       "      <td>3407</td>\n",
       "    </tr>\n",
       "  </tbody>\n",
       "</table>\n",
       "</div>"
      ],
      "text/plain": [
       "                   name                                       address  \\\n",
       "count              3983                                          3983   \n",
       "unique             3933                                          3933   \n",
       "top     Anthony Colucci  781 Moore Throughway\\r\\nAshleyfurt, WY 94154   \n",
       "freq                  2                                             2   \n",
       "\n",
       "       pregnant relationship education  income             job          state  \\\n",
       "count      3968         3970      3969    3968            3970           3970   \n",
       "unique        6            6        24       2              15             37   \n",
       "top           f      Husband   HS-grad   <=50K  Prof-specialty  United-States   \n",
       "freq       3486         1621      1117    3017             495           3545   \n",
       "\n",
       "             family_status     home  color  \n",
       "count                 3970     3970   3970  \n",
       "unique                   7       11      5  \n",
       "top     Married-civ-spouse  Private  White  \n",
       "freq                  1816     2499   3407  "
      ]
     },
     "execution_count": 183,
     "metadata": {},
     "output_type": "execute_result"
    }
   ],
   "source": [
    "other_train.describe(exclude = np.number)"
   ]
  },
  {
   "cell_type": "markdown",
   "metadata": {},
   "source": [
    "Základná deskriptívna štatistika pre nenumerické atribúty."
   ]
  },
  {
   "cell_type": "markdown",
   "metadata": {},
   "source": [
    "### name?"
   ]
  },
  {
   "cell_type": "code",
   "execution_count": null,
   "metadata": {},
   "outputs": [],
   "source": []
  },
  {
   "cell_type": "markdown",
   "metadata": {},
   "source": [
    "### address?"
   ]
  },
  {
   "cell_type": "code",
   "execution_count": null,
   "metadata": {},
   "outputs": [],
   "source": []
  },
  {
   "cell_type": "markdown",
   "metadata": {},
   "source": [
    "### class"
   ]
  },
  {
   "cell_type": "code",
   "execution_count": 213,
   "metadata": {
    "scrolled": true
   },
   "outputs": [
    {
     "data": {
      "text/plain": [
       "<matplotlib.axes._subplots.AxesSubplot at 0x1e7ffef6748>"
      ]
     },
     "execution_count": 213,
     "metadata": {},
     "output_type": "execute_result"
    },
    {
     "data": {
      "image/png": "[encoded data removed]",
      "text/plain": [
       "<Figure size 432x288 with 1 Axes>"
      ]
     },
     "metadata": {},
     "output_type": "display_data"
    }
   ],
   "source": [
    "other_train['class'].value_counts().plot(kind='pie')"
   ]
  },
  {
   "cell_type": "markdown",
   "metadata": {},
   "source": [
    "### pregnant"
   ]
  },
  {
   "cell_type": "code",
   "execution_count": 214,
   "metadata": {},
   "outputs": [
    {
     "data": {
      "text/plain": [
       "<matplotlib.axes._subplots.AxesSubplot at 0x1e7ffdad198>"
      ]
     },
     "execution_count": 214,
     "metadata": {},
     "output_type": "execute_result"
    },
    {
     "data": {
      "image/png": "[encoded data removed]",
      "text/plain": [
       "<Figure size 432x288 with 1 Axes>"
      ]
     },
     "metadata": {},
     "output_type": "display_data"
    }
   ],
   "source": [
    "other_train['pregnant'].value_counts().plot(kind='pie')"
   ]
  },
  {
   "cell_type": "markdown",
   "metadata": {},
   "source": [
    "Tieto hodnoty bude potrebné upraviť do jedného spoločného formátu."
   ]
  },
  {
   "cell_type": "markdown",
   "metadata": {},
   "source": [
    "### relationship"
   ]
  },
  {
   "cell_type": "code",
   "execution_count": 204,
   "metadata": {},
   "outputs": [
    {
     "data": {
      "text/plain": [
       "<matplotlib.axes._subplots.AxesSubplot at 0x1e7805f6e48>"
      ]
     },
     "execution_count": 204,
     "metadata": {},
     "output_type": "execute_result"
    },
    {
     "data": {
      "image/png": "[encoded data removed]",
      "text/plain": [
       "<Figure size 432x288 with 1 Axes>"
      ]
     },
     "metadata": {
      "needs_background": "light"
     },
     "output_type": "display_data"
    }
   ],
   "source": [
    "other_train['relationship'].value_counts().plot(kind='bar')"
   ]
  },
  {
   "cell_type": "markdown",
   "metadata": {},
   "source": [
    "### education"
   ]
  },
  {
   "cell_type": "code",
   "execution_count": 205,
   "metadata": {},
   "outputs": [
    {
     "data": {
      "text/plain": [
       "<matplotlib.axes._subplots.AxesSubplot at 0x1e7feaaeeb8>"
      ]
     },
     "execution_count": 205,
     "metadata": {},
     "output_type": "execute_result"
    },
    {
     "data": {
      "image/png": "[encoded data removed]",
      "text/plain": [
       "<Figure size 432x288 with 1 Axes>"
      ]
     },
     "metadata": {
      "needs_background": "light"
     },
     "output_type": "display_data"
    }
   ],
   "source": [
    "other_train['education'].value_counts().plot(kind='bar')"
   ]
  },
  {
   "cell_type": "markdown",
   "metadata": {},
   "source": [
    "### income"
   ]
  },
  {
   "cell_type": "code",
   "execution_count": 215,
   "metadata": {},
   "outputs": [
    {
     "data": {
      "text/plain": [
       "<matplotlib.axes._subplots.AxesSubplot at 0x1e780224ba8>"
      ]
     },
     "execution_count": 215,
     "metadata": {},
     "output_type": "execute_result"
    },
    {
     "data": {
      "image/png": "[encoded data removed]",
      "text/plain": [
       "<Figure size 432x288 with 1 Axes>"
      ]
     },
     "metadata": {},
     "output_type": "display_data"
    }
   ],
   "source": [
    "other_train['income'].value_counts().plot(kind='pie')"
   ]
  },
  {
   "cell_type": "markdown",
   "metadata": {},
   "source": [
    "### job"
   ]
  },
  {
   "cell_type": "code",
   "execution_count": 207,
   "metadata": {},
   "outputs": [
    {
     "data": {
      "text/plain": [
       "<matplotlib.axes._subplots.AxesSubplot at 0x1e7fe7b5160>"
      ]
     },
     "execution_count": 207,
     "metadata": {},
     "output_type": "execute_result"
    },
    {
     "data": {
      "image/png": "[encoded data removed]",
      "text/plain": [
       "<Figure size 432x288 with 1 Axes>"
      ]
     },
     "metadata": {
      "needs_background": "light"
     },
     "output_type": "display_data"
    }
   ],
   "source": [
    "other_train['job'].value_counts().plot(kind='bar')"
   ]
  },
  {
   "cell_type": "markdown",
   "metadata": {},
   "source": [
    "### state"
   ]
  },
  {
   "cell_type": "code",
   "execution_count": 209,
   "metadata": {},
   "outputs": [
    {
     "data": {
      "text/plain": [
       "<matplotlib.axes._subplots.AxesSubplot at 0x1e7febc6c18>"
      ]
     },
     "execution_count": 209,
     "metadata": {},
     "output_type": "execute_result"
    },
    {
     "data": {
      "image/png": "[encoded data removed]",
      "text/plain": [
       "<Figure size 432x288 with 1 Axes>"
      ]
     },
     "metadata": {
      "needs_background": "light"
     },
     "output_type": "display_data"
    }
   ],
   "source": [
    "other_train['state'].value_counts().plot(kind='bar')"
   ]
  },
  {
   "cell_type": "markdown",
   "metadata": {},
   "source": [
    "### family_status"
   ]
  },
  {
   "cell_type": "code",
   "execution_count": 210,
   "metadata": {},
   "outputs": [
    {
     "data": {
      "text/plain": [
       "<matplotlib.axes._subplots.AxesSubplot at 0x1e7ffe58780>"
      ]
     },
     "execution_count": 210,
     "metadata": {},
     "output_type": "execute_result"
    },
    {
     "data": {
      "image/png": "[encoded data removed]",
      "text/plain": [
       "<Figure size 432x288 with 1 Axes>"
      ]
     },
     "metadata": {
      "needs_background": "light"
     },
     "output_type": "display_data"
    }
   ],
   "source": [
    "other_train['family_status'].value_counts().plot(kind='bar')"
   ]
  },
  {
   "cell_type": "markdown",
   "metadata": {},
   "source": [
    "### home - #TODO premenovať atribút"
   ]
  },
  {
   "cell_type": "code",
   "execution_count": 211,
   "metadata": {},
   "outputs": [
    {
     "data": {
      "text/plain": [
       "<matplotlib.axes._subplots.AxesSubplot at 0x1e7fec1e908>"
      ]
     },
     "execution_count": 211,
     "metadata": {},
     "output_type": "execute_result"
    },
    {
     "data": {
      "image/png": "[encoded data removed]",
      "text/plain": [
       "<Figure size 432x288 with 1 Axes>"
      ]
     },
     "metadata": {
      "needs_background": "light"
     },
     "output_type": "display_data"
    }
   ],
   "source": [
    "other_train['home'].value_counts().plot(kind='bar')"
   ]
  },
  {
   "cell_type": "markdown",
   "metadata": {},
   "source": [
    "### color"
   ]
  },
  {
   "cell_type": "code",
   "execution_count": 212,
   "metadata": {},
   "outputs": [
    {
     "data": {
      "text/plain": [
       "<matplotlib.axes._subplots.AxesSubplot at 0x1e7ffeec780>"
      ]
     },
     "execution_count": 212,
     "metadata": {},
     "output_type": "execute_result"
    },
    {
     "data": {
      "image/png": "[encoded data removed]",
      "text/plain": [
       "<Figure size 432x288 with 1 Axes>"
      ]
     },
     "metadata": {
      "needs_background": "light"
     },
     "output_type": "display_data"
    }
   ],
   "source": [
    "other_train['color'].value_counts().plot(kind='bar')"
   ]
  },
  {
   "cell_type": "code",
   "execution_count": null,
   "metadata": {},
   "outputs": [],
   "source": []
  }
 ],
 "metadata": {
  "kernelspec": {
   "display_name": "Python 3",
   "language": "python",
   "name": "python3"
  },
  "language_info": {
   "codemirror_mode": {
    "name": "ipython",
    "version": 3
   },
   "file_extension": ".py",
   "mimetype": "text/x-python",
   "name": "python",
   "nbconvert_exporter": "python",
   "pygments_lexer": "ipython3",
   "version": "3.7.3"
  }
 },
 "nbformat": 4,
 "nbformat_minor": 2
}
