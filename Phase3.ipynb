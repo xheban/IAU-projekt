{
 "cells": [
  {
   "cell_type": "markdown",
   "metadata": {},
   "source": [
    "FIIT STU v Bratislave, ZS 2019/2020, Utorok 11:00\n",
    "\n",
    "---\n",
    "\n",
    "# Projekt z predmetu Inteligentná analýza údajov\n",
    "### Michal Heban, Ivana Frankovičová\n",
    "Datasety č. 10\n",
    "\n",
    "---"
   ]
  },
  {
   "cell_type": "markdown",
   "metadata": {},
   "source": [
    "## 3. fáza - Strojové učenie"
   ]
  },
  {
   "cell_type": "code",
   "execution_count": 235,
   "metadata": {},
   "outputs": [],
   "source": [
    "%matplotlib inline\n",
    "import pandas as pd\n",
    "import numpy as np\n",
    "import matplotlib.pyplot as plt\n",
    "import seaborn as sb;\n",
    "import sklearn.metrics as sm"
   ]
  },
  {
   "cell_type": "markdown",
   "metadata": {},
   "source": [
    "## Predspracovanie nových datasetov"
   ]
  },
  {
   "cell_type": "markdown",
   "metadata": {},
   "source": [
    "Načítame si upravený dataset s trénovacími dátami, csv súbor s natrénovanými dátami, ktoré sme si ukladali v druhej fáze a nové datasety s validačnými a testovacími dátami, ktoré spojíme a upravíme."
   ]
  },
  {
   "cell_type": "code",
   "execution_count": 99,
   "metadata": {},
   "outputs": [],
   "source": [
    "train_dataset = pd.read_csv(\"merged_train.csv\", lineterminator='#')"
   ]
  },
  {
   "cell_type": "code",
   "execution_count": 116,
   "metadata": {},
   "outputs": [],
   "source": [
    "datasetProcessValues = pd.read_csv(\"trainingPreprocessData.csv\", lineterminator='#')"
   ]
  },
  {
   "cell_type": "code",
   "execution_count": 82,
   "metadata": {},
   "outputs": [],
   "source": [
    "other_valid = pd.read_csv(\"other_valid.csv\", sep=',', index_col = 0)"
   ]
  },
  {
   "cell_type": "code",
   "execution_count": 4,
   "metadata": {},
   "outputs": [],
   "source": [
    "personal_valid = pd.read_csv(\"personal_valid.csv\", sep=',', index_col = 0)"
   ]
  },
  {
   "cell_type": "code",
   "execution_count": 394,
   "metadata": {},
   "outputs": [],
   "source": [
    "other_test = pd.read_csv(\"other_test.csv\", sep=',', index_col = 0)"
   ]
  },
  {
   "cell_type": "code",
   "execution_count": 395,
   "metadata": {},
   "outputs": [],
   "source": [
    "personal_test = pd.read_csv(\"personal_test.csv\", sep=',', index_col = 0)"
   ]
  },
  {
   "cell_type": "markdown",
   "metadata": {},
   "source": [
    "Pridali sme funkcie na úpravu kategorických atribútov na numerické:"
   ]
  },
  {
   "cell_type": "code",
   "execution_count": 391,
   "metadata": {},
   "outputs": [],
   "source": [
    "sex_to_numeric = {\n",
    "    \"Male\":0,\n",
    "    \"Female\":1\n",
    "}\n",
    "pregnant_to_numeric = {\n",
    "    \"f\":0,\n",
    "    \"t\":1\n",
    "}\n",
    "def changePregnantToCategorical(dataset):\n",
    "    dataset['pregnant'] = [pregnant_to_numeric[item] for item in dataset['pregnant']]\n",
    "def changeSexToCategorical(dataset):\n",
    "    dataset['sex'] = [sex_to_numeric[item] for item in dataset['sex']]"
   ]
  },
  {
   "cell_type": "code",
   "execution_count": 392,
   "metadata": {},
   "outputs": [],
   "source": [
    "def categoricalToNumber(dataset):\n",
    "    changePregnantToCategorical(dataset)\n",
    "    changeSexToCategorical(dataset)"
   ]
  },
  {
   "cell_type": "code",
   "execution_count": 393,
   "metadata": {},
   "outputs": [
    {
     "ename": "KeyError",
     "evalue": "0",
     "output_type": "error",
     "traceback": [
      "\u001b[1;31m---------------------------------------------------------------------------\u001b[0m",
      "\u001b[1;31mKeyError\u001b[0m                                  Traceback (most recent call last)",
      "\u001b[1;32m<ipython-input-393-ad20dd11f9c7>\u001b[0m in \u001b[0;36m<module>\u001b[1;34m\u001b[0m\n\u001b[1;32m----> 1\u001b[1;33m \u001b[0mcategoricalToNumber\u001b[0m\u001b[1;33m(\u001b[0m\u001b[0mtrain_dataset\u001b[0m\u001b[1;33m)\u001b[0m\u001b[1;33m\u001b[0m\u001b[1;33m\u001b[0m\u001b[0m\n\u001b[0m",
      "\u001b[1;32m<ipython-input-392-7ce60d033d00>\u001b[0m in \u001b[0;36mcategoricalToNumber\u001b[1;34m(dataset)\u001b[0m\n\u001b[0;32m      1\u001b[0m \u001b[1;32mdef\u001b[0m \u001b[0mcategoricalToNumber\u001b[0m\u001b[1;33m(\u001b[0m\u001b[0mdataset\u001b[0m\u001b[1;33m)\u001b[0m\u001b[1;33m:\u001b[0m\u001b[1;33m\u001b[0m\u001b[1;33m\u001b[0m\u001b[0m\n\u001b[1;32m----> 2\u001b[1;33m     \u001b[0mchangePregnantToCategorical\u001b[0m\u001b[1;33m(\u001b[0m\u001b[0mdataset\u001b[0m\u001b[1;33m)\u001b[0m\u001b[1;33m\u001b[0m\u001b[1;33m\u001b[0m\u001b[0m\n\u001b[0m\u001b[0;32m      3\u001b[0m     \u001b[0mchangeSexToCategorical\u001b[0m\u001b[1;33m(\u001b[0m\u001b[0mdataset\u001b[0m\u001b[1;33m)\u001b[0m\u001b[1;33m\u001b[0m\u001b[1;33m\u001b[0m\u001b[0m\n",
      "\u001b[1;32m<ipython-input-391-c62f2aab7f55>\u001b[0m in \u001b[0;36mchangePregnantToCategorical\u001b[1;34m(dataset)\u001b[0m\n\u001b[0;32m      8\u001b[0m }\n\u001b[0;32m      9\u001b[0m \u001b[1;32mdef\u001b[0m \u001b[0mchangePregnantToCategorical\u001b[0m\u001b[1;33m(\u001b[0m\u001b[0mdataset\u001b[0m\u001b[1;33m)\u001b[0m\u001b[1;33m:\u001b[0m\u001b[1;33m\u001b[0m\u001b[1;33m\u001b[0m\u001b[0m\n\u001b[1;32m---> 10\u001b[1;33m     \u001b[0mdataset\u001b[0m\u001b[1;33m[\u001b[0m\u001b[1;34m'pregnant'\u001b[0m\u001b[1;33m]\u001b[0m \u001b[1;33m=\u001b[0m \u001b[1;33m[\u001b[0m\u001b[0mpregnant_to_numeric\u001b[0m\u001b[1;33m[\u001b[0m\u001b[0mitem\u001b[0m\u001b[1;33m]\u001b[0m \u001b[1;32mfor\u001b[0m \u001b[0mitem\u001b[0m \u001b[1;32min\u001b[0m \u001b[0mdataset\u001b[0m\u001b[1;33m[\u001b[0m\u001b[1;34m'pregnant'\u001b[0m\u001b[1;33m]\u001b[0m\u001b[1;33m]\u001b[0m\u001b[1;33m\u001b[0m\u001b[1;33m\u001b[0m\u001b[0m\n\u001b[0m\u001b[0;32m     11\u001b[0m \u001b[1;32mdef\u001b[0m \u001b[0mchangeSexToCategorical\u001b[0m\u001b[1;33m(\u001b[0m\u001b[0mdataset\u001b[0m\u001b[1;33m)\u001b[0m\u001b[1;33m:\u001b[0m\u001b[1;33m\u001b[0m\u001b[1;33m\u001b[0m\u001b[0m\n\u001b[0;32m     12\u001b[0m     \u001b[0mdataset\u001b[0m\u001b[1;33m[\u001b[0m\u001b[1;34m'sex'\u001b[0m\u001b[1;33m]\u001b[0m \u001b[1;33m=\u001b[0m \u001b[1;33m[\u001b[0m\u001b[0msex_to_numeric\u001b[0m\u001b[1;33m[\u001b[0m\u001b[0mitem\u001b[0m\u001b[1;33m]\u001b[0m \u001b[1;32mfor\u001b[0m \u001b[0mitem\u001b[0m \u001b[1;32min\u001b[0m \u001b[0mdataset\u001b[0m\u001b[1;33m[\u001b[0m\u001b[1;34m'sex'\u001b[0m\u001b[1;33m]\u001b[0m\u001b[1;33m]\u001b[0m\u001b[1;33m\u001b[0m\u001b[1;33m\u001b[0m\u001b[0m\n",
      "\u001b[1;32m<ipython-input-391-c62f2aab7f55>\u001b[0m in \u001b[0;36m<listcomp>\u001b[1;34m(.0)\u001b[0m\n\u001b[0;32m      8\u001b[0m }\n\u001b[0;32m      9\u001b[0m \u001b[1;32mdef\u001b[0m \u001b[0mchangePregnantToCategorical\u001b[0m\u001b[1;33m(\u001b[0m\u001b[0mdataset\u001b[0m\u001b[1;33m)\u001b[0m\u001b[1;33m:\u001b[0m\u001b[1;33m\u001b[0m\u001b[1;33m\u001b[0m\u001b[0m\n\u001b[1;32m---> 10\u001b[1;33m     \u001b[0mdataset\u001b[0m\u001b[1;33m[\u001b[0m\u001b[1;34m'pregnant'\u001b[0m\u001b[1;33m]\u001b[0m \u001b[1;33m=\u001b[0m \u001b[1;33m[\u001b[0m\u001b[0mpregnant_to_numeric\u001b[0m\u001b[1;33m[\u001b[0m\u001b[0mitem\u001b[0m\u001b[1;33m]\u001b[0m \u001b[1;32mfor\u001b[0m \u001b[0mitem\u001b[0m \u001b[1;32min\u001b[0m \u001b[0mdataset\u001b[0m\u001b[1;33m[\u001b[0m\u001b[1;34m'pregnant'\u001b[0m\u001b[1;33m]\u001b[0m\u001b[1;33m]\u001b[0m\u001b[1;33m\u001b[0m\u001b[1;33m\u001b[0m\u001b[0m\n\u001b[0m\u001b[0;32m     11\u001b[0m \u001b[1;32mdef\u001b[0m \u001b[0mchangeSexToCategorical\u001b[0m\u001b[1;33m(\u001b[0m\u001b[0mdataset\u001b[0m\u001b[1;33m)\u001b[0m\u001b[1;33m:\u001b[0m\u001b[1;33m\u001b[0m\u001b[1;33m\u001b[0m\u001b[0m\n\u001b[0;32m     12\u001b[0m     \u001b[0mdataset\u001b[0m\u001b[1;33m[\u001b[0m\u001b[1;34m'sex'\u001b[0m\u001b[1;33m]\u001b[0m \u001b[1;33m=\u001b[0m \u001b[1;33m[\u001b[0m\u001b[0msex_to_numeric\u001b[0m\u001b[1;33m[\u001b[0m\u001b[0mitem\u001b[0m\u001b[1;33m]\u001b[0m \u001b[1;32mfor\u001b[0m \u001b[0mitem\u001b[0m \u001b[1;32min\u001b[0m \u001b[0mdataset\u001b[0m\u001b[1;33m[\u001b[0m\u001b[1;34m'sex'\u001b[0m\u001b[1;33m]\u001b[0m\u001b[1;33m]\u001b[0m\u001b[1;33m\u001b[0m\u001b[1;33m\u001b[0m\u001b[0m\n",
      "\u001b[1;31mKeyError\u001b[0m: 0"
     ]
    }
   ],
   "source": [
    "categoricalToNumber(train_dataset)"
   ]
  },
  {
   "cell_type": "markdown",
   "metadata": {},
   "source": [
    " Nakopírovali sme si sem všetky funkcie z druhej fázy, ktoré budeme potrebovať na úpravu datasetov. Vo funkciách sme museli pridať kód na úpravu niektorých atribútov, ktoré obsahovali nullové hodnoty. Tieto atribúty nemali v trénovacom datasete nullové hodnoty a preto sme ich v druhej fáze neriešili."
   ]
  },
  {
   "cell_type": "code",
   "execution_count": 58,
   "metadata": {},
   "outputs": [],
   "source": [
    "def dateFormat(date):\n",
    "    dateForm = date.replace('1', '0')\n",
    "    dateForm = dateForm.replace('2', '0')\n",
    "    dateForm = dateForm.replace('3', '0')\n",
    "    dateForm = dateForm.replace('4', '0')\n",
    "    dateForm = dateForm.replace('5', '0')\n",
    "    dateForm = dateForm.replace('6', '0')\n",
    "    dateForm = dateForm.replace('7', '0')\n",
    "    dateForm = dateForm.replace('8', '0')\n",
    "    dateForm = dateForm.replace('9', '0')\n",
    "    return dateForm"
   ]
  },
  {
   "cell_type": "code",
   "execution_count": 59,
   "metadata": {},
   "outputs": [],
   "source": [
    "def changeDate(date):\n",
    "    datef = dateFormat(date)\n",
    "    if(datef == '00-00-00'):\n",
    "        day = date[6:]\n",
    "        month = date[:5]\n",
    "        month = month[3:]\n",
    "        year = date[:2]\n",
    "        firstOfYear = year[:1]\n",
    "        if(firstOfYear == '1' or firstOfYear == '0'):\n",
    "            year ='20'+year\n",
    "        else:\n",
    "            year ='19'+year\n",
    "        date = year\n",
    "        date = date+'-'\n",
    "        date = date+month\n",
    "        date = date+'-'\n",
    "        date = date+day\n",
    "        return date\n",
    "    if(datef == '0000-00-00 00:00:00'):\n",
    "        date = date[:10]\n",
    "        return date\n",
    "    if(datef == '00/00/0000'):\n",
    "        day = date[:2]\n",
    "        month = date[:5]\n",
    "        month = month[3:]\n",
    "        year = date[6:]\n",
    "        date = year\n",
    "        date = date+'-'\n",
    "        date = date+month\n",
    "        date = date+'-'\n",
    "        date = date+day\n",
    "        return date\n",
    "    if(datef == '0000/00/00'):\n",
    "        date = date.replace('/','-')\n",
    "        return date\n",
    "    if(datef == '0000-00-00 00 00 00'):\n",
    "        date = date[:10]\n",
    "        return date\n",
    "    if(datef == '0000-00-00'):\n",
    "        return date\n",
    "    else:\n",
    "        print('no match')\n",
    "        return date"
   ]
  },
  {
   "cell_type": "code",
   "execution_count": 60,
   "metadata": {},
   "outputs": [],
   "source": [
    "def changePregnantInfoFlag(flag):\n",
    "    if(flag == 'F'):\n",
    "        return 'f'\n",
    "    if(flag == 'FALSE'):\n",
    "        return 'f'\n",
    "    if(flag == 'T'):\n",
    "        return 't'\n",
    "    if(flag == 'TRUE'):\n",
    "        flag = 't'\n",
    "    if(flag == 't'):\n",
    "        return 't'\n",
    "    if(flag == 'f'):\n",
    "        return 'f'"
   ]
  },
  {
   "cell_type": "code",
   "execution_count": 61,
   "metadata": {},
   "outputs": [],
   "source": [
    "def addressCorrection(address):\n",
    "    address = address.replace('\\r\\n',' ')\n",
    "    return address"
   ]
  },
  {
   "cell_type": "code",
   "execution_count": 62,
   "metadata": {},
   "outputs": [],
   "source": [
    "def process_pi(text):\n",
    "    if pd.isnull(text) or \"undefined\" in text:\n",
    "        return pd.Series([\"undefined\"]*5)\n",
    "    splitted_pi = re.split('[| \\r\\r\\n]',text)\n",
    "    splitted_pi = list(filter(None,splitted_pi))\n",
    "    splitted_pi.remove(\"--\")\n",
    "    return pd.Series([splitted_pi[0],splitted_pi[1],splitted_pi[2],splitted_pi[3],splitted_pi[4]])"
   ]
  },
  {
   "cell_type": "code",
   "execution_count": 63,
   "metadata": {},
   "outputs": [],
   "source": [
    "def fixSex(sex):\n",
    "    sex = sex.replace(' ','')\n",
    "    return sex"
   ]
  },
  {
   "cell_type": "code",
   "execution_count": 127,
   "metadata": {},
   "outputs": [],
   "source": [
    "def setMissingValuesToMean(dataset,column):\n",
    "    imp_mean = SimpleImputer(missing_values=np.nan, strategy='mean')\n",
    "    imp_mean = imp_mean.fit(train_dataset[[column]])\n",
    "    dataset[column] = imp_mean.transform(dataset[[column]]).ravel()"
   ]
  },
  {
   "cell_type": "code",
   "execution_count": 126,
   "metadata": {},
   "outputs": [],
   "source": [
    "def setMissingValuesToMedian(dataset,column):\n",
    "    imp_mean = SimpleImputer(missing_values=np.nan, strategy='median')\n",
    "    imp_mean = imp_mean.fit(train_dataset[[column]])\n",
    "    dataset[column] = imp_mean.transform(dataset[[column]]).ravel()"
   ]
  },
  {
   "cell_type": "code",
   "execution_count": 419,
   "metadata": {},
   "outputs": [],
   "source": [
    "def setMissingValuesToSegmentMean(dataset,column):\n",
    "    meanMale = train_dataset[train_dataset['sex'] == 0][column].mean()\n",
    "    meanFemale = train_dataset[train_dataset['sex'] == 1][column].mean()\n",
    "    dataset.loc[(dataset[column].isnull()) & (dataset['sex'] == 'Male'), column] = meanMale\n",
    "    dataset.loc[(dataset[column].isnull()) & (dataset['sex'] == 'Female') , column] = meanFemale"
   ]
  },
  {
   "cell_type": "code",
   "execution_count": 396,
   "metadata": {},
   "outputs": [],
   "source": [
    "def setMissingValueToUndefined(dataset,column):\n",
    "    dataset.loc[dataset[column].isna() , column] = 'undefined'\n",
    "    dataset.loc[dataset[column] == '??',column] = 'undefined'\n",
    "    dataset.loc[dataset[column] == '?',column] = 'undefined'"
   ]
  },
  {
   "cell_type": "code",
   "execution_count": 68,
   "metadata": {},
   "outputs": [],
   "source": [
    "def repair_age(age):\n",
    "    if pd.isnull(age):\n",
    "        return pd.Series(np.nan)\n",
    "    if age >= 130:\n",
    "        return int(age / 100)\n",
    "    if age < 0:\n",
    "        return int(((age * -1) / 100))\n",
    "    else:\n",
    "        return int(age)"
   ]
  },
  {
   "cell_type": "code",
   "execution_count": 123,
   "metadata": {},
   "outputs": [],
   "source": [
    "def getMinFromDataset(dataset,column):\n",
    "    min = dataset[column].min()\n",
    "    return float(min)"
   ]
  },
  {
   "cell_type": "code",
   "execution_count": 343,
   "metadata": {},
   "outputs": [],
   "source": [
    "def method3(dataset,column):\n",
    "    minimumValue = datasetProcessValues[column][0]\n",
    "    if minimumValue < 0:\n",
    "        minimumValueForLogShift = (minimumValue * -1) + 0.5\n",
    "        dataset[column] = dataset[column] + minimumValueForLogShift\n",
    "    dataset.dropna(subset=[column], inplace=True)\n",
    "    dataset[column] = np.log(dataset[column])"
   ]
  },
  {
   "cell_type": "code",
   "execution_count": 121,
   "metadata": {},
   "outputs": [],
   "source": [
    "def method1(dataset,column,minV,maxV):\n",
    "    upperQ = datasetProcessValues[column][4]\n",
    "    dataset.loc[dataset[column] > maxV, column] = upperQ\n",
    "    \n",
    "    lowerQ = datasetProcessValues[column][5]\n",
    "    dataset.loc[dataset[column] < minV, column] = upperQ\n",
    "    "
   ]
  },
  {
   "cell_type": "code",
   "execution_count": 72,
   "metadata": {},
   "outputs": [],
   "source": [
    "def mergeDatasets(dataset1,dataset2):\n",
    "    mergedDataset = pd.merge(dataset1,dataset2, on=['name','address'], how='left')\n",
    "    duplicates = mergedDataset[mergedDataset.duplicated(['name', 'address','age'], keep=False)].sort_values(by = 'name')\n",
    "    mergedDataset = mergedDataset.drop_duplicates(['name', 'address'], keep=False)\n",
    "    names = duplicates.name.unique()\n",
    "\n",
    "    for name in names:\n",
    "        tmp = duplicates[duplicates['name'] == name]\n",
    "        tmp = tmp.fillna(method='ffill')\n",
    "        tmp = tmp.fillna(method='bfill')\n",
    "        tmp = tmp.drop_duplicates(['name'])\n",
    "        mergedDataset = mergedDataset.append(tmp, ignore_index=True)\n",
    "    return mergedDataset"
   ]
  },
  {
   "cell_type": "code",
   "execution_count": 73,
   "metadata": {},
   "outputs": [],
   "source": [
    "def dataFixing(dataset):\n",
    "    dataset['date_of_birth'] = dataset['date_of_birth'].apply(changeDate)\n",
    "    dataset['pregnant'] = dataset['pregnant'].apply(changePregnantInfoFlag)\n",
    "    dataset['address'] = dataset['address'].apply(addressCorrection)\n",
    "    dataset[['job','state','family_status','home','color']] = dataset['personal_info'].apply(process_pi)\n",
    "    del dataset['personal_info']\n",
    "    dataset['sex'] = dataset['sex'].apply(fixSex)\n",
    "    dataset.loc[(dataset[\"sex\"] == 'Male') & (dataset[\"pregnant\"] == 't') , 'pregnant'] = 'f'\n",
    "    dataset['capital'] = dataset['capital-gain'] - dataset['capital-loss']\n",
    "    dataset['age'] = dataset['age'].apply(repair_age)\n",
    "    del dataset[\"capital-gain\"]\n",
    "    del dataset[\"capital-loss\"]"
   ]
  },
  {
   "cell_type": "code",
   "execution_count": 401,
   "metadata": {},
   "outputs": [],
   "source": [
    "def missingDataProcessing(dataset):\n",
    "    setMissingValuesToMean(dataset,'kurtosis_oxygen')\n",
    "    setMissingValuesToMean(dataset,'hours-per-week')\n",
    "    setMissingValuesToMean(dataset,'std_glucose')\n",
    "    setMissingValuesToMean(dataset,'skewness_glucose')\n",
    "    setMissingValuesToSegmentMean(dataset,'mean_glucose')\n",
    "    setMissingValuesToMean(dataset,'kurtosis_glucose')\n",
    "    setMissingValuesToMedian(dataset,'fnlwgt')\n",
    "    setMissingValueToUndefined(dataset,'income')\n",
    "    setMissingValueToUndefined(dataset,'capital')\n",
    "    setMissingValueToUndefined(dataset,'job')\n",
    "    setMissingValueToUndefined(dataset,'state')\n",
    "    setMissingValueToUndefined(dataset,'home')\n",
    "    setMissingValueToUndefined(dataset,'education') # TODO if enough time set due to education num\n",
    "    setMissingValueToUndefined(dataset,'relationship')\n",
    "    setMissingValueToUndefined(dataset,'education-num') # TODO if enough time set due to education"
   ]
  },
  {
   "cell_type": "code",
   "execution_count": 75,
   "metadata": {},
   "outputs": [],
   "source": [
    "def outlierProcessing(dataset):\n",
    "    method1(dataset,'kurtosis_glucose',datasetProcessValues['kurtosis_glucose'][1],datasetProcessValues['kurtosis_glucose'][2])\n",
    "    method1(dataset,'kurtosis_oxygen',datasetProcessValues['kurtosis_oxygen'][1],datasetProcessValues['kurtosis_oxygen'][2])\n",
    "    method1(dataset,'mean_glucose',datasetProcessValues['mean_glucose'][1],datasetProcessValues['mean_glucose'][2])    \n",
    "    method3(dataset,'mean_oxygen')\n",
    "    method3(dataset,'skewness_glucose')\n",
    "    method3(dataset,'skewness_oxygen')\n",
    "    method1(dataset,'std_glucose',datasetProcessValues['std_glucose'][1],datasetProcessValues['std_glucose'][2])\n",
    "    method1(dataset,'std_oxygen',datasetProcessValues['std_oxygen'][1],datasetProcessValues['std_oxygen'][2])"
   ]
  },
  {
   "cell_type": "code",
   "execution_count": 341,
   "metadata": {},
   "outputs": [],
   "source": [
    "def finalFunction(dataset1,dataset2):\n",
    "    mergedDataset = mergeDatasets(dataset1,dataset2)\n",
    "    dataFixing(mergedDataset)\n",
    "    missingDataProcessing(mergedDataset)\n",
    "    outlierProcessing(mergedDataset)\n",
    "    return mergedDataset"
   ]
  },
  {
   "cell_type": "markdown",
   "metadata": {},
   "source": [
    "Funkcie máme nakopírované, môžeme upravovať datasety. Upravíme validačné datasety a testovacie datasety."
   ]
  },
  {
   "cell_type": "code",
   "execution_count": 422,
   "metadata": {},
   "outputs": [
    {
     "name": "stderr",
     "output_type": "stream",
     "text": [
      "C:\\Users\\Nay\\Anaconda3\\lib\\site-packages\\pandas\\core\\ops.py:1649: FutureWarning: elementwise comparison failed; returning scalar instead, but in the future will perform elementwise comparison\n",
      "  result = method(y)\n"
     ]
    }
   ],
   "source": [
    "valid = finalFunction(personal_valid, other_valid)"
   ]
  },
  {
   "cell_type": "code",
   "execution_count": 423,
   "metadata": {},
   "outputs": [
    {
     "data": {
      "text/plain": [
       "name                0\n",
       "address             0\n",
       "age                 0\n",
       "sex                 0\n",
       "date_of_birth       0\n",
       "kurtosis_oxygen     0\n",
       "pregnant            0\n",
       "education-num       0\n",
       "relationship        0\n",
       "skewness_glucose    0\n",
       "mean_glucose        0\n",
       "std_oxygen          0\n",
       "skewness_oxygen     0\n",
       "kurtosis_glucose    0\n",
       "education           0\n",
       "fnlwgt              0\n",
       "class               0\n",
       "std_glucose         0\n",
       "income              0\n",
       "mean_oxygen         0\n",
       "hours-per-week      0\n",
       "job                 0\n",
       "state               0\n",
       "family_status       0\n",
       "home                0\n",
       "color               0\n",
       "capital             0\n",
       "dtype: int64"
      ]
     },
     "execution_count": 423,
     "metadata": {},
     "output_type": "execute_result"
    }
   ],
   "source": [
    "valid.isna().sum()"
   ]
  },
  {
   "cell_type": "code",
   "execution_count": 420,
   "metadata": {},
   "outputs": [],
   "source": [
    "test_dataset = finalFunction(personal_test, other_test)"
   ]
  },
  {
   "cell_type": "code",
   "execution_count": 421,
   "metadata": {},
   "outputs": [
    {
     "data": {
      "text/plain": [
       "name                0\n",
       "address             0\n",
       "age                 0\n",
       "sex                 0\n",
       "date_of_birth       0\n",
       "education-num       0\n",
       "std_oxygen          0\n",
       "fnlwgt              0\n",
       "relationship        0\n",
       "kurtosis_glucose    0\n",
       "skewness_oxygen     0\n",
       "income              0\n",
       "mean_oxygen         0\n",
       "pregnant            0\n",
       "std_glucose         0\n",
       "kurtosis_oxygen     0\n",
       "skewness_glucose    0\n",
       "mean_glucose        0\n",
       "education           0\n",
       "hours-per-week      0\n",
       "job                 0\n",
       "state               0\n",
       "family_status       0\n",
       "home                0\n",
       "color               0\n",
       "capital             0\n",
       "dtype: int64"
      ]
     },
     "execution_count": 421,
     "metadata": {},
     "output_type": "execute_result"
    }
   ],
   "source": [
    "test_dataset.isna().sum()"
   ]
  },
  {
   "cell_type": "markdown",
   "metadata": {},
   "source": [
    "Po úprave vidíme, že datasety sú spojené a nenachádzajú sa v nich už žiadne nullové hodnoty."
   ]
  },
  {
   "cell_type": "markdown",
   "metadata": {},
   "source": [
    "## Rozhodovacie pravidlá pre klasifikáciu - manuálne"
   ]
  },
  {
   "cell_type": "markdown",
   "metadata": {},
   "source": [
    "Pre tvorbu rozhodovacích pravidiel pre klasifikáciu sme si vybrali atribúty mean_glucose a mean_oxygen. Vytvorili sme funkcie, ktoré predikujú, či človek má cukrovku podľa zvýšených, resp. znížených hodnôt cukru a kyslíka v krvi:"
   ]
  },
  {
   "cell_type": "code",
   "execution_count": 300,
   "metadata": {},
   "outputs": [],
   "source": [
    "def predictionDiabetesFromGlucose(dataset):\n",
    "    dataset.loc[dataset['mean_glucose'] < diabetesGlucoseThreshold, 'predicted'] = 1\n",
    "    dataset.loc[dataset['mean_glucose'] >= diabetesGlucoseThreshold, 'predicted'] = 0"
   ]
  },
  {
   "cell_type": "code",
   "execution_count": 306,
   "metadata": {},
   "outputs": [],
   "source": [
    "def predictionDiabetesFromOxygen(dataset):\n",
    "    dataset.loc[dataset['mean_oxygen'] < diabetesOxygenThreshold, 'predicted'] = 0\n",
    "    dataset.loc[dataset['mean_oxygen'] >= diabetesOxygenThreshold, 'predicted'] = 1"
   ]
  },
  {
   "cell_type": "markdown",
   "metadata": {},
   "source": [
    "Nasledujúca funkcia slúži na výpis hodnôt accuracy, precision a recall:"
   ]
  },
  {
   "cell_type": "code",
   "execution_count": 293,
   "metadata": {},
   "outputs": [],
   "source": [
    "def scoresOfPredictions(dataset,predictionDataset,typeOfData):\n",
    "    name = 'validačný'\n",
    "    if(typeOfData == 1):\n",
    "        name = 'trénovací'\n",
    "    labels = dataset['class'].values\n",
    "    print('Výsledky pre '+name+' dataset')\n",
    "    print(\"   * Accuracy score:\",sm.accuracy_score(labels,predictionDataset['predicted']))\n",
    "    print(\"   * Precision score:\",sm.precision_score(labels,predictionDataset['predicted'], average='macro'))\n",
    "    print(\"   * Recall score:\",sm.recall_score(labels,predictionDataset['predicted'], average='macro'))"
   ]
  },
  {
   "cell_type": "markdown",
   "metadata": {},
   "source": [
    "### mean_glucose"
   ]
  },
  {
   "cell_type": "code",
   "execution_count": 175,
   "metadata": {},
   "outputs": [],
   "source": [
    "gpd = valid.loc[valid['class'] == 1,'mean_glucose']\n",
    "gnd = valid.loc[valid['class'] == 0,'mean_glucose']"
   ]
  },
  {
   "cell_type": "markdown",
   "metadata": {},
   "source": [
    "(Poznámka: gpd - glucose positive diabetes, gnd - glucose negative diabetes)"
   ]
  },
  {
   "cell_type": "markdown",
   "metadata": {},
   "source": [
    "Vykreslili sme si histogramy mean_glucose. Červenou farbou sú vyznačené hodnoty cukru v krvi u ľudí, ktorí majú cukrovku. Modrou farbou sú vyznačené hodnoty cukru v krvi u ľudí, ktorí cukrovku nemajú."
   ]
  },
  {
   "cell_type": "code",
   "execution_count": 347,
   "metadata": {},
   "outputs": [
    {
     "data": {
      "image/png": "[encoded data removed]",
      "text/plain": [
       "<Figure size 432x288 with 1 Axes>"
      ]
     },
     "metadata": {
      "needs_background": "light"
     },
     "output_type": "display_data"
    }
   ],
   "source": [
    "gpd.plot.hist(bins=30,color = 'red',alpha = 0.5)\n",
    "gnd.plot.hist(bins = 30, color = 'blue',alpha = 0.5)\n",
    "plt.axvline(x=93, color = 'black')\n",
    "diabetesGlucoseThreshold = 93"
   ]
  },
  {
   "cell_type": "markdown",
   "metadata": {},
   "source": [
    "Ako predikčnú hodnotu sme si vzali číslo 93. Vyznačili sme ho do grafu čiarou pre vizuálne rozlíšenie. "
   ]
  },
  {
   "cell_type": "code",
   "execution_count": 276,
   "metadata": {},
   "outputs": [],
   "source": [
    "predictedTrainG = train_dataset[['class','mean_glucose']].copy()\n",
    "predictedValidG = valid[['class','mean_glucose']].copy()\n",
    "predictedTrainG['predicted'] = 0\n",
    "predictedValidG['predicted'] = 0"
   ]
  },
  {
   "cell_type": "code",
   "execution_count": 348,
   "metadata": {},
   "outputs": [],
   "source": [
    "predictionDiabetesFromGlucose(predictedTrainG)\n",
    "predictionDiabetesFromGlucose(predictedValidG)"
   ]
  },
  {
   "cell_type": "markdown",
   "metadata": {},
   "source": [
    "Predikovali sme cukrovku u ľudí v trénovacom aj validačnom datasete. Skóre accuracy, precision a recall nám vyšli relatívne vysoké, ak teda vezmeme do úvahy, že sme použili iba jedno veľmi jednoduché pravidlo."
   ]
  },
  {
   "cell_type": "code",
   "execution_count": 349,
   "metadata": {},
   "outputs": [
    {
     "name": "stdout",
     "output_type": "stream",
     "text": [
      "Výsledky pre trénovací dataset\n",
      "   * Accuracy score: 0.8759216882786677\n",
      "   * Precision score: 0.8350719298771052\n",
      "   * Recall score: 0.8423977357895152\n"
     ]
    }
   ],
   "source": [
    "scoresOfPredictions(train_dataset,predictedTrainG,1)"
   ]
  },
  {
   "cell_type": "code",
   "execution_count": 305,
   "metadata": {},
   "outputs": [
    {
     "name": "stdout",
     "output_type": "stream",
     "text": [
      "Výsledky pre validačný dataset\n",
      "   * Accuracy score: 0.8771929824561403\n",
      "   * Precision score: 0.8387145495658779\n",
      "   * Recall score: 0.8526206235586571\n"
     ]
    }
   ],
   "source": [
    "scoresOfPredictions(valid,predictedValidG,0)"
   ]
  },
  {
   "cell_type": "markdown",
   "metadata": {},
   "source": [
    "### mean_oxygen"
   ]
  },
  {
   "cell_type": "code",
   "execution_count": 350,
   "metadata": {},
   "outputs": [],
   "source": [
    "opd = valid.loc[valid['class'] == 1,'mean_oxygen']\n",
    "ond = valid.loc[valid['class'] == 0,'mean_oxygen']"
   ]
  },
  {
   "cell_type": "markdown",
   "metadata": {},
   "source": [
    "(Poznámka: opd - oxygen positive diabetes, ond - oxygen negative diabetes)"
   ]
  },
  {
   "cell_type": "markdown",
   "metadata": {},
   "source": [
    "Vykreslili sme si histogramy mean_oxygen. Červenou farbou sú vyznačené hodnoty kyslíka v krvi u ľudí, ktorí majú cukrovku. Modrou farbou sú vyznačené hodnoty kyslíka v krvi u ľudí, ktorí cukrovku nemajú."
   ]
  },
  {
   "cell_type": "code",
   "execution_count": 353,
   "metadata": {},
   "outputs": [
    {
     "data": {
      "image/png": "[encoded data removed]",
      "text/plain": [
       "<Figure size 432x288 with 1 Axes>"
      ]
     },
     "metadata": {
      "needs_background": "light"
     },
     "output_type": "display_data"
    }
   ],
   "source": [
    "opd.plot.hist(bins=30,color = 'red',alpha = 0.6)\n",
    "ond.plot.hist(bins = 30, color = 'blue',alpha = 0.6)\n",
    "plt.axvline(x=2.5, color = 'black')\n",
    "diabetesOxygenThreshold = 2.5"
   ]
  },
  {
   "cell_type": "markdown",
   "metadata": {},
   "source": [
    "Ako predikčnú hodnotu sme si vzali číslo 2,5. Vyznačili sme ho do grafu čiarou pre vizuálne rozlíšenie. "
   ]
  },
  {
   "cell_type": "code",
   "execution_count": 354,
   "metadata": {},
   "outputs": [],
   "source": [
    "predictedTrainO = train_dataset[['class','mean_oxygen']].copy()\n",
    "predictedValidO = valid[['class','mean_oxygen']].copy()\n",
    "predictedTrainO['predicted'] = 0\n",
    "predictedValidO['predicted'] = 0"
   ]
  },
  {
   "cell_type": "code",
   "execution_count": 355,
   "metadata": {},
   "outputs": [],
   "source": [
    "predictionDiabetesFromOxygen(predictedTrainO)\n",
    "predictionDiabetesFromOxygen(predictedValidO)"
   ]
  },
  {
   "cell_type": "markdown",
   "metadata": {},
   "source": [
    "Predikovali sme cukrovku u ľudí v trénovacom aj validačnom datasete. Skóre accuracy, precision a recall nám, rovnako ako pri mean_glucose, vyšli opäť celkom vysoké. "
   ]
  },
  {
   "cell_type": "code",
   "execution_count": 356,
   "metadata": {},
   "outputs": [
    {
     "name": "stdout",
     "output_type": "stream",
     "text": [
      "Výsledky pre trénovací dataset\n",
      "   * Accuracy score: 0.8728705822527333\n",
      "   * Precision score: 0.8330405727923628\n",
      "   * Recall score: 0.832166724022313\n"
     ]
    }
   ],
   "source": [
    "scoresOfPredictions(train_dataset,predictedTrainO,1)"
   ]
  },
  {
   "cell_type": "code",
   "execution_count": 357,
   "metadata": {},
   "outputs": [
    {
     "name": "stdout",
     "output_type": "stream",
     "text": [
      "Výsledky pre validačný dataset\n",
      "   * Accuracy score: 0.8756674294431731\n",
      "   * Precision score: 0.8377839335180055\n",
      "   * Recall score: 0.8469495941777232\n"
     ]
    }
   ],
   "source": [
    "scoresOfPredictions(valid,predictedValidO,0)"
   ]
  },
  {
   "cell_type": "code",
   "execution_count": null,
   "metadata": {},
   "outputs": [],
   "source": [
    "# TODO opýtať sa čo asi spojiť či môžne spojiť tieto dva čo boli robené samostatne"
   ]
  },
  {
   "cell_type": "markdown",
   "metadata": {},
   "source": [
    "## Rozhodovací strom"
   ]
  },
  {
   "cell_type": "code",
   "execution_count": 293,
   "metadata": {},
   "outputs": [],
   "source": [
    "def scoresOfTreePredictions(dataset,predictionDataset,typeOfData):\n",
    "    name = 'validačný'\n",
    "    if(typeOfData == 1):\n",
    "        name = 'trénovací'\n",
    "    labels = dataset['class'].values\n",
    "    print('Výsledky pre '+name+' dataset')\n",
    "    print(\"   * Accuracy score:\",sm.accuracy_score(labels,predictionDataset['predicted']))\n",
    "    print(\"   * Precision score:\",sm.precision_score(labels,predictionDataset['predicted'], average='macro'))\n",
    "    print(\"   * Recall score:\",sm.recall_score(labels,predictionDataset['predicted'], average='macro'))\n",
    "    print(\"   * F1 score:\",sm.f1_score(labels,predictionDataset['predicted'], average='macro'))"
   ]
  },
  {
   "cell_type": "code",
   "execution_count": null,
   "metadata": {},
   "outputs": [],
   "source": [
    "#mergedTrain = pd.read_csv('./merged_train.csv', index_col=0)\n",
    "#mergedValid = pd.read_csv('./merged_valid.csv', index_col=0)\n",
    "\n",
    "labelsTrain = train_dataset['class_type'].values\n",
    "featuresTrain = train_dataset[col2] # neviem co dat namiesto col2\n",
    "\n",
    "labelsValid = valid['class_type'].values\n",
    "featuresValid = valid[col2] # ani tu neviem co dat namiesto col2\n",
    "\n",
    "clf = DecisionTreeClassifier(criterion='entropy',max_depth = 4,class_weight = {0:50,1:30,2:20})\n",
    "model = clf.fit(featuresTrain, labelsTrain)\n",
    "\n",
    "test = featuresValid\n",
    "predicted = clf.predict(test)\n"
   ]
  },
  {
   "cell_type": "code",
   "execution_count": null,
   "metadata": {},
   "outputs": [],
   "source": [
    "scoresOfTreePredictions(valid, predicted, 0)"
   ]
  },
  {
   "cell_type": "code",
   "execution_count": null,
   "metadata": {},
   "outputs": [],
   "source": []
  }
 ],
 "metadata": {
  "kernelspec": {
   "display_name": "Python 3",
   "language": "python",
   "name": "python3"
  },
  "language_info": {
   "codemirror_mode": {
    "name": "ipython",
    "version": 3
   },
   "file_extension": ".py",
   "mimetype": "text/x-python",
   "name": "python",
   "nbconvert_exporter": "python",
   "pygments_lexer": "ipython3",
   "version": "3.7.3"
  }
 },
 "nbformat": 4,
 "nbformat_minor": 2
}
